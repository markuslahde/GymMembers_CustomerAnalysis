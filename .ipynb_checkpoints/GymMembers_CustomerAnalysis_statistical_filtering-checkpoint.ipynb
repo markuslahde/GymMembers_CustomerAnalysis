{
 "cells": [
  {
   "cell_type": "code",
   "execution_count": 34,
   "id": "ad172a78-b5c8-4218-bd3d-093205eb8b5e",
   "metadata": {},
   "outputs": [],
   "source": [
    "%run _args.py\n",
    "%run _io_functions.py\n",
    "%run _stats_functions.py"
   ]
  },
  {
   "cell_type": "code",
   "execution_count": 2,
   "id": "f407195b-0c78-44e9-93eb-b56f6753554b",
   "metadata": {},
   "outputs": [],
   "source": [
    "args = parse_args()"
   ]
  },
  {
   "cell_type": "code",
   "execution_count": 3,
   "id": "658751d8-1aaa-4efe-84bd-3a91b881c8db",
   "metadata": {},
   "outputs": [],
   "source": [
    "df, _ = csv_to_df_loader(args.data_dir, args.production_data)"
   ]
  },
  {
   "cell_type": "code",
   "execution_count": 4,
   "id": "c3b6e365-aece-44cc-a239-009c7b329c01",
   "metadata": {},
   "outputs": [
    {
     "data": {
      "text/html": [
       "<div>\n",
       "<style scoped>\n",
       "    .dataframe tbody tr th:only-of-type {\n",
       "        vertical-align: middle;\n",
       "    }\n",
       "\n",
       "    .dataframe tbody tr th {\n",
       "        vertical-align: top;\n",
       "    }\n",
       "\n",
       "    .dataframe thead th {\n",
       "        text-align: right;\n",
       "    }\n",
       "</style>\n",
       "<table border=\"1\" class=\"dataframe\">\n",
       "  <thead>\n",
       "    <tr style=\"text-align: right;\">\n",
       "      <th></th>\n",
       "      <th>age</th>\n",
       "      <th>gender</th>\n",
       "      <th>session_duration_hours</th>\n",
       "      <th>workout_type</th>\n",
       "      <th>workout_frequency_days_per_week</th>\n",
       "      <th>experience_level</th>\n",
       "      <th>fat_percentage_encoded</th>\n",
       "      <th>bmi_encoded</th>\n",
       "      <th>experience_level_encoded</th>\n",
       "      <th>age_encoded</th>\n",
       "      <th>hours_spent_at_gym_weekly</th>\n",
       "      <th>session_duration_hours_encoded</th>\n",
       "      <th>hours_spent_at_gym_weekly_encoded</th>\n",
       "    </tr>\n",
       "  </thead>\n",
       "  <tbody>\n",
       "    <tr>\n",
       "      <th>0</th>\n",
       "      <td>56</td>\n",
       "      <td>Male</td>\n",
       "      <td>1.69</td>\n",
       "      <td>Yoga</td>\n",
       "      <td>4</td>\n",
       "      <td>3</td>\n",
       "      <td>healthy</td>\n",
       "      <td>obesity</td>\n",
       "      <td>expert</td>\n",
       "      <td>50-59</td>\n",
       "      <td>6.76</td>\n",
       "      <td>Q4_1.46_2.0</td>\n",
       "      <td>Q4_5.48_9.95</td>\n",
       "    </tr>\n",
       "    <tr>\n",
       "      <th>1</th>\n",
       "      <td>46</td>\n",
       "      <td>Female</td>\n",
       "      <td>1.30</td>\n",
       "      <td>HIIT</td>\n",
       "      <td>4</td>\n",
       "      <td>2</td>\n",
       "      <td>healthy</td>\n",
       "      <td>obesity</td>\n",
       "      <td>regular</td>\n",
       "      <td>40-49</td>\n",
       "      <td>5.20</td>\n",
       "      <td>Q3_1.26_1.46</td>\n",
       "      <td>Q3_4.05_5.48</td>\n",
       "    </tr>\n",
       "    <tr>\n",
       "      <th>2</th>\n",
       "      <td>32</td>\n",
       "      <td>Female</td>\n",
       "      <td>1.11</td>\n",
       "      <td>Cardio</td>\n",
       "      <td>4</td>\n",
       "      <td>2</td>\n",
       "      <td>healthy</td>\n",
       "      <td>normal</td>\n",
       "      <td>regular</td>\n",
       "      <td>30-39</td>\n",
       "      <td>4.44</td>\n",
       "      <td>Q2_1.04_1.26</td>\n",
       "      <td>Q3_4.05_5.48</td>\n",
       "    </tr>\n",
       "    <tr>\n",
       "      <th>3</th>\n",
       "      <td>25</td>\n",
       "      <td>Male</td>\n",
       "      <td>0.59</td>\n",
       "      <td>Strength</td>\n",
       "      <td>3</td>\n",
       "      <td>1</td>\n",
       "      <td>obese</td>\n",
       "      <td>underweight</td>\n",
       "      <td>beginner</td>\n",
       "      <td>18-29</td>\n",
       "      <td>1.77</td>\n",
       "      <td>Q1_0.5_1.04</td>\n",
       "      <td>Q1_1.0_2.76</td>\n",
       "    </tr>\n",
       "    <tr>\n",
       "      <th>4</th>\n",
       "      <td>38</td>\n",
       "      <td>Male</td>\n",
       "      <td>0.64</td>\n",
       "      <td>Strength</td>\n",
       "      <td>3</td>\n",
       "      <td>1</td>\n",
       "      <td>obese</td>\n",
       "      <td>underweight</td>\n",
       "      <td>beginner</td>\n",
       "      <td>30-39</td>\n",
       "      <td>1.92</td>\n",
       "      <td>Q1_0.5_1.04</td>\n",
       "      <td>Q1_1.0_2.76</td>\n",
       "    </tr>\n",
       "  </tbody>\n",
       "</table>\n",
       "</div>"
      ],
      "text/plain": [
       "   age  gender  session_duration_hours workout_type  \\\n",
       "0   56    Male                    1.69         Yoga   \n",
       "1   46  Female                    1.30         HIIT   \n",
       "2   32  Female                    1.11       Cardio   \n",
       "3   25    Male                    0.59     Strength   \n",
       "4   38    Male                    0.64     Strength   \n",
       "\n",
       "   workout_frequency_days_per_week  experience_level fat_percentage_encoded  \\\n",
       "0                                4                 3                healthy   \n",
       "1                                4                 2                healthy   \n",
       "2                                4                 2                healthy   \n",
       "3                                3                 1                  obese   \n",
       "4                                3                 1                  obese   \n",
       "\n",
       "   bmi_encoded experience_level_encoded age_encoded  \\\n",
       "0      obesity                   expert       50-59   \n",
       "1      obesity                  regular       40-49   \n",
       "2       normal                  regular       30-39   \n",
       "3  underweight                 beginner       18-29   \n",
       "4  underweight                 beginner       30-39   \n",
       "\n",
       "   hours_spent_at_gym_weekly session_duration_hours_encoded  \\\n",
       "0                       6.76                    Q4_1.46_2.0   \n",
       "1                       5.20                   Q3_1.26_1.46   \n",
       "2                       4.44                   Q2_1.04_1.26   \n",
       "3                       1.77                    Q1_0.5_1.04   \n",
       "4                       1.92                    Q1_0.5_1.04   \n",
       "\n",
       "  hours_spent_at_gym_weekly_encoded  \n",
       "0                      Q4_5.48_9.95  \n",
       "1                      Q3_4.05_5.48  \n",
       "2                      Q3_4.05_5.48  \n",
       "3                       Q1_1.0_2.76  \n",
       "4                       Q1_1.0_2.76  "
      ]
     },
     "execution_count": 4,
     "metadata": {},
     "output_type": "execute_result"
    }
   ],
   "source": [
    "df.head()"
   ]
  },
  {
   "cell_type": "code",
   "execution_count": 5,
   "id": "da29ae1d-2eae-4e94-887c-ab2169d1cac1",
   "metadata": {
    "scrolled": true
   },
   "outputs": [
    {
     "name": "stdout",
     "output_type": "stream",
     "text": [
      "\n",
      "Combinations of 2 dimensions:\n",
      "('gender', 'workout_type')\n",
      "('gender', 'workout_frequency_days_per_week')\n",
      "('gender', 'fat_percentage_encoded')\n",
      "('gender', 'bmi_encoded')\n",
      "('gender', 'experience_level_encoded')\n",
      "('gender', 'age_encoded')\n",
      "('gender', 'session_duration_hours_encoded')\n",
      "('gender', 'hours_spent_at_gym_weekly_encoded')\n",
      "('workout_type', 'workout_frequency_days_per_week')\n",
      "('workout_type', 'fat_percentage_encoded')\n",
      "('workout_type', 'bmi_encoded')\n",
      "('workout_type', 'experience_level_encoded')\n",
      "('workout_type', 'age_encoded')\n",
      "('workout_type', 'session_duration_hours_encoded')\n",
      "('workout_type', 'hours_spent_at_gym_weekly_encoded')\n",
      "('workout_frequency_days_per_week', 'fat_percentage_encoded')\n",
      "('workout_frequency_days_per_week', 'bmi_encoded')\n",
      "('workout_frequency_days_per_week', 'experience_level_encoded')\n",
      "('workout_frequency_days_per_week', 'age_encoded')\n",
      "('workout_frequency_days_per_week', 'session_duration_hours_encoded')\n",
      "('workout_frequency_days_per_week', 'hours_spent_at_gym_weekly_encoded')\n",
      "('fat_percentage_encoded', 'bmi_encoded')\n",
      "('fat_percentage_encoded', 'experience_level_encoded')\n",
      "('fat_percentage_encoded', 'age_encoded')\n",
      "('fat_percentage_encoded', 'session_duration_hours_encoded')\n",
      "('fat_percentage_encoded', 'hours_spent_at_gym_weekly_encoded')\n",
      "('bmi_encoded', 'experience_level_encoded')\n",
      "('bmi_encoded', 'age_encoded')\n",
      "('bmi_encoded', 'session_duration_hours_encoded')\n",
      "('bmi_encoded', 'hours_spent_at_gym_weekly_encoded')\n",
      "('experience_level_encoded', 'age_encoded')\n",
      "('experience_level_encoded', 'session_duration_hours_encoded')\n",
      "('experience_level_encoded', 'hours_spent_at_gym_weekly_encoded')\n",
      "('age_encoded', 'session_duration_hours_encoded')\n",
      "('age_encoded', 'hours_spent_at_gym_weekly_encoded')\n",
      "('session_duration_hours_encoded', 'hours_spent_at_gym_weekly_encoded')\n",
      "\n",
      "Combinations of 3 dimensions:\n",
      "('gender', 'workout_type', 'workout_frequency_days_per_week')\n",
      "('gender', 'workout_type', 'fat_percentage_encoded')\n",
      "('gender', 'workout_type', 'bmi_encoded')\n",
      "('gender', 'workout_type', 'experience_level_encoded')\n",
      "('gender', 'workout_type', 'age_encoded')\n",
      "('gender', 'workout_type', 'session_duration_hours_encoded')\n",
      "('gender', 'workout_type', 'hours_spent_at_gym_weekly_encoded')\n",
      "('gender', 'workout_frequency_days_per_week', 'fat_percentage_encoded')\n",
      "('gender', 'workout_frequency_days_per_week', 'bmi_encoded')\n",
      "('gender', 'workout_frequency_days_per_week', 'experience_level_encoded')\n",
      "('gender', 'workout_frequency_days_per_week', 'age_encoded')\n",
      "('gender', 'workout_frequency_days_per_week', 'session_duration_hours_encoded')\n",
      "('gender', 'workout_frequency_days_per_week', 'hours_spent_at_gym_weekly_encoded')\n",
      "('gender', 'fat_percentage_encoded', 'bmi_encoded')\n",
      "('gender', 'fat_percentage_encoded', 'experience_level_encoded')\n",
      "('gender', 'fat_percentage_encoded', 'age_encoded')\n",
      "('gender', 'fat_percentage_encoded', 'session_duration_hours_encoded')\n",
      "('gender', 'fat_percentage_encoded', 'hours_spent_at_gym_weekly_encoded')\n",
      "('gender', 'bmi_encoded', 'experience_level_encoded')\n",
      "('gender', 'bmi_encoded', 'age_encoded')\n",
      "('gender', 'bmi_encoded', 'session_duration_hours_encoded')\n",
      "('gender', 'bmi_encoded', 'hours_spent_at_gym_weekly_encoded')\n",
      "('gender', 'experience_level_encoded', 'age_encoded')\n",
      "('gender', 'experience_level_encoded', 'session_duration_hours_encoded')\n",
      "('gender', 'experience_level_encoded', 'hours_spent_at_gym_weekly_encoded')\n",
      "('gender', 'age_encoded', 'session_duration_hours_encoded')\n",
      "('gender', 'age_encoded', 'hours_spent_at_gym_weekly_encoded')\n",
      "('gender', 'session_duration_hours_encoded', 'hours_spent_at_gym_weekly_encoded')\n",
      "('workout_type', 'workout_frequency_days_per_week', 'fat_percentage_encoded')\n",
      "('workout_type', 'workout_frequency_days_per_week', 'bmi_encoded')\n",
      "('workout_type', 'workout_frequency_days_per_week', 'experience_level_encoded')\n",
      "('workout_type', 'workout_frequency_days_per_week', 'age_encoded')\n",
      "('workout_type', 'workout_frequency_days_per_week', 'session_duration_hours_encoded')\n",
      "('workout_type', 'workout_frequency_days_per_week', 'hours_spent_at_gym_weekly_encoded')\n",
      "('workout_type', 'fat_percentage_encoded', 'bmi_encoded')\n",
      "('workout_type', 'fat_percentage_encoded', 'experience_level_encoded')\n",
      "('workout_type', 'fat_percentage_encoded', 'age_encoded')\n",
      "('workout_type', 'fat_percentage_encoded', 'session_duration_hours_encoded')\n",
      "('workout_type', 'fat_percentage_encoded', 'hours_spent_at_gym_weekly_encoded')\n",
      "('workout_type', 'bmi_encoded', 'experience_level_encoded')\n",
      "('workout_type', 'bmi_encoded', 'age_encoded')\n",
      "('workout_type', 'bmi_encoded', 'session_duration_hours_encoded')\n",
      "('workout_type', 'bmi_encoded', 'hours_spent_at_gym_weekly_encoded')\n",
      "('workout_type', 'experience_level_encoded', 'age_encoded')\n",
      "('workout_type', 'experience_level_encoded', 'session_duration_hours_encoded')\n",
      "('workout_type', 'experience_level_encoded', 'hours_spent_at_gym_weekly_encoded')\n",
      "('workout_type', 'age_encoded', 'session_duration_hours_encoded')\n",
      "('workout_type', 'age_encoded', 'hours_spent_at_gym_weekly_encoded')\n",
      "('workout_type', 'session_duration_hours_encoded', 'hours_spent_at_gym_weekly_encoded')\n",
      "('workout_frequency_days_per_week', 'fat_percentage_encoded', 'bmi_encoded')\n",
      "('workout_frequency_days_per_week', 'fat_percentage_encoded', 'experience_level_encoded')\n",
      "('workout_frequency_days_per_week', 'fat_percentage_encoded', 'age_encoded')\n",
      "('workout_frequency_days_per_week', 'fat_percentage_encoded', 'session_duration_hours_encoded')\n",
      "('workout_frequency_days_per_week', 'fat_percentage_encoded', 'hours_spent_at_gym_weekly_encoded')\n",
      "('workout_frequency_days_per_week', 'bmi_encoded', 'experience_level_encoded')\n",
      "('workout_frequency_days_per_week', 'bmi_encoded', 'age_encoded')\n",
      "('workout_frequency_days_per_week', 'bmi_encoded', 'session_duration_hours_encoded')\n",
      "('workout_frequency_days_per_week', 'bmi_encoded', 'hours_spent_at_gym_weekly_encoded')\n",
      "('workout_frequency_days_per_week', 'experience_level_encoded', 'age_encoded')\n",
      "('workout_frequency_days_per_week', 'experience_level_encoded', 'session_duration_hours_encoded')\n",
      "('workout_frequency_days_per_week', 'experience_level_encoded', 'hours_spent_at_gym_weekly_encoded')\n",
      "('workout_frequency_days_per_week', 'age_encoded', 'session_duration_hours_encoded')\n",
      "('workout_frequency_days_per_week', 'age_encoded', 'hours_spent_at_gym_weekly_encoded')\n",
      "('workout_frequency_days_per_week', 'session_duration_hours_encoded', 'hours_spent_at_gym_weekly_encoded')\n",
      "('fat_percentage_encoded', 'bmi_encoded', 'experience_level_encoded')\n",
      "('fat_percentage_encoded', 'bmi_encoded', 'age_encoded')\n",
      "('fat_percentage_encoded', 'bmi_encoded', 'session_duration_hours_encoded')\n",
      "('fat_percentage_encoded', 'bmi_encoded', 'hours_spent_at_gym_weekly_encoded')\n",
      "('fat_percentage_encoded', 'experience_level_encoded', 'age_encoded')\n",
      "('fat_percentage_encoded', 'experience_level_encoded', 'session_duration_hours_encoded')\n",
      "('fat_percentage_encoded', 'experience_level_encoded', 'hours_spent_at_gym_weekly_encoded')\n",
      "('fat_percentage_encoded', 'age_encoded', 'session_duration_hours_encoded')\n",
      "('fat_percentage_encoded', 'age_encoded', 'hours_spent_at_gym_weekly_encoded')\n",
      "('fat_percentage_encoded', 'session_duration_hours_encoded', 'hours_spent_at_gym_weekly_encoded')\n",
      "('bmi_encoded', 'experience_level_encoded', 'age_encoded')\n",
      "('bmi_encoded', 'experience_level_encoded', 'session_duration_hours_encoded')\n",
      "('bmi_encoded', 'experience_level_encoded', 'hours_spent_at_gym_weekly_encoded')\n",
      "('bmi_encoded', 'age_encoded', 'session_duration_hours_encoded')\n",
      "('bmi_encoded', 'age_encoded', 'hours_spent_at_gym_weekly_encoded')\n",
      "('bmi_encoded', 'session_duration_hours_encoded', 'hours_spent_at_gym_weekly_encoded')\n",
      "('experience_level_encoded', 'age_encoded', 'session_duration_hours_encoded')\n",
      "('experience_level_encoded', 'age_encoded', 'hours_spent_at_gym_weekly_encoded')\n",
      "('experience_level_encoded', 'session_duration_hours_encoded', 'hours_spent_at_gym_weekly_encoded')\n",
      "('age_encoded', 'session_duration_hours_encoded', 'hours_spent_at_gym_weekly_encoded')\n",
      "\n",
      "Combinations of 4 dimensions:\n",
      "('gender', 'workout_type', 'workout_frequency_days_per_week', 'fat_percentage_encoded')\n",
      "('gender', 'workout_type', 'workout_frequency_days_per_week', 'bmi_encoded')\n",
      "('gender', 'workout_type', 'workout_frequency_days_per_week', 'experience_level_encoded')\n",
      "('gender', 'workout_type', 'workout_frequency_days_per_week', 'age_encoded')\n",
      "('gender', 'workout_type', 'workout_frequency_days_per_week', 'session_duration_hours_encoded')\n",
      "('gender', 'workout_type', 'workout_frequency_days_per_week', 'hours_spent_at_gym_weekly_encoded')\n",
      "('gender', 'workout_type', 'fat_percentage_encoded', 'bmi_encoded')\n",
      "('gender', 'workout_type', 'fat_percentage_encoded', 'experience_level_encoded')\n",
      "('gender', 'workout_type', 'fat_percentage_encoded', 'age_encoded')\n",
      "('gender', 'workout_type', 'fat_percentage_encoded', 'session_duration_hours_encoded')\n",
      "('gender', 'workout_type', 'fat_percentage_encoded', 'hours_spent_at_gym_weekly_encoded')\n",
      "('gender', 'workout_type', 'bmi_encoded', 'experience_level_encoded')\n",
      "('gender', 'workout_type', 'bmi_encoded', 'age_encoded')\n",
      "('gender', 'workout_type', 'bmi_encoded', 'session_duration_hours_encoded')\n",
      "('gender', 'workout_type', 'bmi_encoded', 'hours_spent_at_gym_weekly_encoded')\n",
      "('gender', 'workout_type', 'experience_level_encoded', 'age_encoded')\n",
      "('gender', 'workout_type', 'experience_level_encoded', 'session_duration_hours_encoded')\n",
      "('gender', 'workout_type', 'experience_level_encoded', 'hours_spent_at_gym_weekly_encoded')\n",
      "('gender', 'workout_type', 'age_encoded', 'session_duration_hours_encoded')\n",
      "('gender', 'workout_type', 'age_encoded', 'hours_spent_at_gym_weekly_encoded')\n",
      "('gender', 'workout_type', 'session_duration_hours_encoded', 'hours_spent_at_gym_weekly_encoded')\n",
      "('gender', 'workout_frequency_days_per_week', 'fat_percentage_encoded', 'bmi_encoded')\n",
      "('gender', 'workout_frequency_days_per_week', 'fat_percentage_encoded', 'experience_level_encoded')\n",
      "('gender', 'workout_frequency_days_per_week', 'fat_percentage_encoded', 'age_encoded')\n",
      "('gender', 'workout_frequency_days_per_week', 'fat_percentage_encoded', 'session_duration_hours_encoded')\n",
      "('gender', 'workout_frequency_days_per_week', 'fat_percentage_encoded', 'hours_spent_at_gym_weekly_encoded')\n",
      "('gender', 'workout_frequency_days_per_week', 'bmi_encoded', 'experience_level_encoded')\n",
      "('gender', 'workout_frequency_days_per_week', 'bmi_encoded', 'age_encoded')\n",
      "('gender', 'workout_frequency_days_per_week', 'bmi_encoded', 'session_duration_hours_encoded')\n",
      "('gender', 'workout_frequency_days_per_week', 'bmi_encoded', 'hours_spent_at_gym_weekly_encoded')\n",
      "('gender', 'workout_frequency_days_per_week', 'experience_level_encoded', 'age_encoded')\n",
      "('gender', 'workout_frequency_days_per_week', 'experience_level_encoded', 'session_duration_hours_encoded')\n",
      "('gender', 'workout_frequency_days_per_week', 'experience_level_encoded', 'hours_spent_at_gym_weekly_encoded')\n",
      "('gender', 'workout_frequency_days_per_week', 'age_encoded', 'session_duration_hours_encoded')\n",
      "('gender', 'workout_frequency_days_per_week', 'age_encoded', 'hours_spent_at_gym_weekly_encoded')\n",
      "('gender', 'workout_frequency_days_per_week', 'session_duration_hours_encoded', 'hours_spent_at_gym_weekly_encoded')\n",
      "('gender', 'fat_percentage_encoded', 'bmi_encoded', 'experience_level_encoded')\n",
      "('gender', 'fat_percentage_encoded', 'bmi_encoded', 'age_encoded')\n",
      "('gender', 'fat_percentage_encoded', 'bmi_encoded', 'session_duration_hours_encoded')\n",
      "('gender', 'fat_percentage_encoded', 'bmi_encoded', 'hours_spent_at_gym_weekly_encoded')\n",
      "('gender', 'fat_percentage_encoded', 'experience_level_encoded', 'age_encoded')\n",
      "('gender', 'fat_percentage_encoded', 'experience_level_encoded', 'session_duration_hours_encoded')\n",
      "('gender', 'fat_percentage_encoded', 'experience_level_encoded', 'hours_spent_at_gym_weekly_encoded')\n",
      "('gender', 'fat_percentage_encoded', 'age_encoded', 'session_duration_hours_encoded')\n",
      "('gender', 'fat_percentage_encoded', 'age_encoded', 'hours_spent_at_gym_weekly_encoded')\n",
      "('gender', 'fat_percentage_encoded', 'session_duration_hours_encoded', 'hours_spent_at_gym_weekly_encoded')\n",
      "('gender', 'bmi_encoded', 'experience_level_encoded', 'age_encoded')\n",
      "('gender', 'bmi_encoded', 'experience_level_encoded', 'session_duration_hours_encoded')\n",
      "('gender', 'bmi_encoded', 'experience_level_encoded', 'hours_spent_at_gym_weekly_encoded')\n",
      "('gender', 'bmi_encoded', 'age_encoded', 'session_duration_hours_encoded')\n",
      "('gender', 'bmi_encoded', 'age_encoded', 'hours_spent_at_gym_weekly_encoded')\n",
      "('gender', 'bmi_encoded', 'session_duration_hours_encoded', 'hours_spent_at_gym_weekly_encoded')\n",
      "('gender', 'experience_level_encoded', 'age_encoded', 'session_duration_hours_encoded')\n",
      "('gender', 'experience_level_encoded', 'age_encoded', 'hours_spent_at_gym_weekly_encoded')\n",
      "('gender', 'experience_level_encoded', 'session_duration_hours_encoded', 'hours_spent_at_gym_weekly_encoded')\n",
      "('gender', 'age_encoded', 'session_duration_hours_encoded', 'hours_spent_at_gym_weekly_encoded')\n",
      "('workout_type', 'workout_frequency_days_per_week', 'fat_percentage_encoded', 'bmi_encoded')\n",
      "('workout_type', 'workout_frequency_days_per_week', 'fat_percentage_encoded', 'experience_level_encoded')\n",
      "('workout_type', 'workout_frequency_days_per_week', 'fat_percentage_encoded', 'age_encoded')\n",
      "('workout_type', 'workout_frequency_days_per_week', 'fat_percentage_encoded', 'session_duration_hours_encoded')\n",
      "('workout_type', 'workout_frequency_days_per_week', 'fat_percentage_encoded', 'hours_spent_at_gym_weekly_encoded')\n",
      "('workout_type', 'workout_frequency_days_per_week', 'bmi_encoded', 'experience_level_encoded')\n",
      "('workout_type', 'workout_frequency_days_per_week', 'bmi_encoded', 'age_encoded')\n",
      "('workout_type', 'workout_frequency_days_per_week', 'bmi_encoded', 'session_duration_hours_encoded')\n",
      "('workout_type', 'workout_frequency_days_per_week', 'bmi_encoded', 'hours_spent_at_gym_weekly_encoded')\n",
      "('workout_type', 'workout_frequency_days_per_week', 'experience_level_encoded', 'age_encoded')\n",
      "('workout_type', 'workout_frequency_days_per_week', 'experience_level_encoded', 'session_duration_hours_encoded')\n",
      "('workout_type', 'workout_frequency_days_per_week', 'experience_level_encoded', 'hours_spent_at_gym_weekly_encoded')\n",
      "('workout_type', 'workout_frequency_days_per_week', 'age_encoded', 'session_duration_hours_encoded')\n",
      "('workout_type', 'workout_frequency_days_per_week', 'age_encoded', 'hours_spent_at_gym_weekly_encoded')\n",
      "('workout_type', 'workout_frequency_days_per_week', 'session_duration_hours_encoded', 'hours_spent_at_gym_weekly_encoded')\n",
      "('workout_type', 'fat_percentage_encoded', 'bmi_encoded', 'experience_level_encoded')\n",
      "('workout_type', 'fat_percentage_encoded', 'bmi_encoded', 'age_encoded')\n",
      "('workout_type', 'fat_percentage_encoded', 'bmi_encoded', 'session_duration_hours_encoded')\n",
      "('workout_type', 'fat_percentage_encoded', 'bmi_encoded', 'hours_spent_at_gym_weekly_encoded')\n",
      "('workout_type', 'fat_percentage_encoded', 'experience_level_encoded', 'age_encoded')\n",
      "('workout_type', 'fat_percentage_encoded', 'experience_level_encoded', 'session_duration_hours_encoded')\n",
      "('workout_type', 'fat_percentage_encoded', 'experience_level_encoded', 'hours_spent_at_gym_weekly_encoded')\n",
      "('workout_type', 'fat_percentage_encoded', 'age_encoded', 'session_duration_hours_encoded')\n",
      "('workout_type', 'fat_percentage_encoded', 'age_encoded', 'hours_spent_at_gym_weekly_encoded')\n",
      "('workout_type', 'fat_percentage_encoded', 'session_duration_hours_encoded', 'hours_spent_at_gym_weekly_encoded')\n",
      "('workout_type', 'bmi_encoded', 'experience_level_encoded', 'age_encoded')\n",
      "('workout_type', 'bmi_encoded', 'experience_level_encoded', 'session_duration_hours_encoded')\n",
      "('workout_type', 'bmi_encoded', 'experience_level_encoded', 'hours_spent_at_gym_weekly_encoded')\n",
      "('workout_type', 'bmi_encoded', 'age_encoded', 'session_duration_hours_encoded')\n",
      "('workout_type', 'bmi_encoded', 'age_encoded', 'hours_spent_at_gym_weekly_encoded')\n",
      "('workout_type', 'bmi_encoded', 'session_duration_hours_encoded', 'hours_spent_at_gym_weekly_encoded')\n",
      "('workout_type', 'experience_level_encoded', 'age_encoded', 'session_duration_hours_encoded')\n",
      "('workout_type', 'experience_level_encoded', 'age_encoded', 'hours_spent_at_gym_weekly_encoded')\n",
      "('workout_type', 'experience_level_encoded', 'session_duration_hours_encoded', 'hours_spent_at_gym_weekly_encoded')\n",
      "('workout_type', 'age_encoded', 'session_duration_hours_encoded', 'hours_spent_at_gym_weekly_encoded')\n",
      "('workout_frequency_days_per_week', 'fat_percentage_encoded', 'bmi_encoded', 'experience_level_encoded')\n",
      "('workout_frequency_days_per_week', 'fat_percentage_encoded', 'bmi_encoded', 'age_encoded')\n",
      "('workout_frequency_days_per_week', 'fat_percentage_encoded', 'bmi_encoded', 'session_duration_hours_encoded')\n",
      "('workout_frequency_days_per_week', 'fat_percentage_encoded', 'bmi_encoded', 'hours_spent_at_gym_weekly_encoded')\n",
      "('workout_frequency_days_per_week', 'fat_percentage_encoded', 'experience_level_encoded', 'age_encoded')\n",
      "('workout_frequency_days_per_week', 'fat_percentage_encoded', 'experience_level_encoded', 'session_duration_hours_encoded')\n",
      "('workout_frequency_days_per_week', 'fat_percentage_encoded', 'experience_level_encoded', 'hours_spent_at_gym_weekly_encoded')\n",
      "('workout_frequency_days_per_week', 'fat_percentage_encoded', 'age_encoded', 'session_duration_hours_encoded')\n",
      "('workout_frequency_days_per_week', 'fat_percentage_encoded', 'age_encoded', 'hours_spent_at_gym_weekly_encoded')\n",
      "('workout_frequency_days_per_week', 'fat_percentage_encoded', 'session_duration_hours_encoded', 'hours_spent_at_gym_weekly_encoded')\n",
      "('workout_frequency_days_per_week', 'bmi_encoded', 'experience_level_encoded', 'age_encoded')\n",
      "('workout_frequency_days_per_week', 'bmi_encoded', 'experience_level_encoded', 'session_duration_hours_encoded')\n",
      "('workout_frequency_days_per_week', 'bmi_encoded', 'experience_level_encoded', 'hours_spent_at_gym_weekly_encoded')\n",
      "('workout_frequency_days_per_week', 'bmi_encoded', 'age_encoded', 'session_duration_hours_encoded')\n",
      "('workout_frequency_days_per_week', 'bmi_encoded', 'age_encoded', 'hours_spent_at_gym_weekly_encoded')\n",
      "('workout_frequency_days_per_week', 'bmi_encoded', 'session_duration_hours_encoded', 'hours_spent_at_gym_weekly_encoded')\n",
      "('workout_frequency_days_per_week', 'experience_level_encoded', 'age_encoded', 'session_duration_hours_encoded')\n",
      "('workout_frequency_days_per_week', 'experience_level_encoded', 'age_encoded', 'hours_spent_at_gym_weekly_encoded')\n",
      "('workout_frequency_days_per_week', 'experience_level_encoded', 'session_duration_hours_encoded', 'hours_spent_at_gym_weekly_encoded')\n",
      "('workout_frequency_days_per_week', 'age_encoded', 'session_duration_hours_encoded', 'hours_spent_at_gym_weekly_encoded')\n",
      "('fat_percentage_encoded', 'bmi_encoded', 'experience_level_encoded', 'age_encoded')\n",
      "('fat_percentage_encoded', 'bmi_encoded', 'experience_level_encoded', 'session_duration_hours_encoded')\n",
      "('fat_percentage_encoded', 'bmi_encoded', 'experience_level_encoded', 'hours_spent_at_gym_weekly_encoded')\n",
      "('fat_percentage_encoded', 'bmi_encoded', 'age_encoded', 'session_duration_hours_encoded')\n",
      "('fat_percentage_encoded', 'bmi_encoded', 'age_encoded', 'hours_spent_at_gym_weekly_encoded')\n",
      "('fat_percentage_encoded', 'bmi_encoded', 'session_duration_hours_encoded', 'hours_spent_at_gym_weekly_encoded')\n",
      "('fat_percentage_encoded', 'experience_level_encoded', 'age_encoded', 'session_duration_hours_encoded')\n",
      "('fat_percentage_encoded', 'experience_level_encoded', 'age_encoded', 'hours_spent_at_gym_weekly_encoded')\n",
      "('fat_percentage_encoded', 'experience_level_encoded', 'session_duration_hours_encoded', 'hours_spent_at_gym_weekly_encoded')\n",
      "('fat_percentage_encoded', 'age_encoded', 'session_duration_hours_encoded', 'hours_spent_at_gym_weekly_encoded')\n",
      "('bmi_encoded', 'experience_level_encoded', 'age_encoded', 'session_duration_hours_encoded')\n",
      "('bmi_encoded', 'experience_level_encoded', 'age_encoded', 'hours_spent_at_gym_weekly_encoded')\n",
      "('bmi_encoded', 'experience_level_encoded', 'session_duration_hours_encoded', 'hours_spent_at_gym_weekly_encoded')\n",
      "('bmi_encoded', 'age_encoded', 'session_duration_hours_encoded', 'hours_spent_at_gym_weekly_encoded')\n",
      "('experience_level_encoded', 'age_encoded', 'session_duration_hours_encoded', 'hours_spent_at_gym_weekly_encoded')\n"
     ]
    }
   ],
   "source": [
    "dimensions = ['gender', 'workout_type', 'workout_frequency_days_per_week', 'fat_percentage_encoded', 'bmi_encoded', 'experience_level_encoded', 'age_encoded', 'session_duration_hours_encoded', 'hours_spent_at_gym_weekly_encoded']\n",
    "generate_dimension_combinations(dimensions)"
   ]
  },
  {
   "cell_type": "markdown",
   "id": "160fd958-d283-4862-90d3-5cbb4b83338f",
   "metadata": {},
   "source": [
    "## Getting the averages"
   ]
  },
  {
   "cell_type": "code",
   "execution_count": 6,
   "id": "d6f69647-0ea3-4c5f-ad80-0a4008b9a210",
   "metadata": {},
   "outputs": [
    {
     "data": {
      "text/html": [
       "<div>\n",
       "<style scoped>\n",
       "    .dataframe tbody tr th:only-of-type {\n",
       "        vertical-align: middle;\n",
       "    }\n",
       "\n",
       "    .dataframe tbody tr th {\n",
       "        vertical-align: top;\n",
       "    }\n",
       "\n",
       "    .dataframe thead th {\n",
       "        text-align: right;\n",
       "    }\n",
       "</style>\n",
       "<table border=\"1\" class=\"dataframe\">\n",
       "  <thead>\n",
       "    <tr style=\"text-align: right;\">\n",
       "      <th></th>\n",
       "      <th>age</th>\n",
       "      <th>session_duration_hours</th>\n",
       "      <th>workout_frequency_days_per_week</th>\n",
       "      <th>experience_level</th>\n",
       "      <th>hours_spent_at_gym_weekly</th>\n",
       "    </tr>\n",
       "  </thead>\n",
       "  <tbody>\n",
       "    <tr>\n",
       "      <th>count</th>\n",
       "      <td>973.000000</td>\n",
       "      <td>973.000000</td>\n",
       "      <td>973.000000</td>\n",
       "      <td>973.000000</td>\n",
       "      <td>973.000000</td>\n",
       "    </tr>\n",
       "    <tr>\n",
       "      <th>mean</th>\n",
       "      <td>38.683453</td>\n",
       "      <td>1.256423</td>\n",
       "      <td>3.321686</td>\n",
       "      <td>1.809866</td>\n",
       "      <td>4.374985</td>\n",
       "    </tr>\n",
       "    <tr>\n",
       "      <th>std</th>\n",
       "      <td>12.180928</td>\n",
       "      <td>0.343033</td>\n",
       "      <td>0.913047</td>\n",
       "      <td>0.739693</td>\n",
       "      <td>2.177100</td>\n",
       "    </tr>\n",
       "    <tr>\n",
       "      <th>min</th>\n",
       "      <td>18.000000</td>\n",
       "      <td>0.500000</td>\n",
       "      <td>2.000000</td>\n",
       "      <td>1.000000</td>\n",
       "      <td>1.000000</td>\n",
       "    </tr>\n",
       "    <tr>\n",
       "      <th>25%</th>\n",
       "      <td>28.000000</td>\n",
       "      <td>1.040000</td>\n",
       "      <td>3.000000</td>\n",
       "      <td>1.000000</td>\n",
       "      <td>2.760000</td>\n",
       "    </tr>\n",
       "    <tr>\n",
       "      <th>50%</th>\n",
       "      <td>40.000000</td>\n",
       "      <td>1.260000</td>\n",
       "      <td>3.000000</td>\n",
       "      <td>2.000000</td>\n",
       "      <td>4.050000</td>\n",
       "    </tr>\n",
       "    <tr>\n",
       "      <th>75%</th>\n",
       "      <td>49.000000</td>\n",
       "      <td>1.460000</td>\n",
       "      <td>4.000000</td>\n",
       "      <td>2.000000</td>\n",
       "      <td>5.480000</td>\n",
       "    </tr>\n",
       "    <tr>\n",
       "      <th>max</th>\n",
       "      <td>59.000000</td>\n",
       "      <td>2.000000</td>\n",
       "      <td>5.000000</td>\n",
       "      <td>3.000000</td>\n",
       "      <td>9.950000</td>\n",
       "    </tr>\n",
       "  </tbody>\n",
       "</table>\n",
       "</div>"
      ],
      "text/plain": [
       "              age  session_duration_hours  workout_frequency_days_per_week  \\\n",
       "count  973.000000              973.000000                       973.000000   \n",
       "mean    38.683453                1.256423                         3.321686   \n",
       "std     12.180928                0.343033                         0.913047   \n",
       "min     18.000000                0.500000                         2.000000   \n",
       "25%     28.000000                1.040000                         3.000000   \n",
       "50%     40.000000                1.260000                         3.000000   \n",
       "75%     49.000000                1.460000                         4.000000   \n",
       "max     59.000000                2.000000                         5.000000   \n",
       "\n",
       "       experience_level  hours_spent_at_gym_weekly  \n",
       "count        973.000000                 973.000000  \n",
       "mean           1.809866                   4.374985  \n",
       "std            0.739693                   2.177100  \n",
       "min            1.000000                   1.000000  \n",
       "25%            1.000000                   2.760000  \n",
       "50%            2.000000                   4.050000  \n",
       "75%            2.000000                   5.480000  \n",
       "max            3.000000                   9.950000  "
      ]
     },
     "execution_count": 6,
     "metadata": {},
     "output_type": "execute_result"
    }
   ],
   "source": [
    "df.describe()"
   ]
  },
  {
   "cell_type": "code",
   "execution_count": 8,
   "id": "05820c2d-d91b-4af8-96f3-3ef15b0fbbd3",
   "metadata": {},
   "outputs": [
    {
     "name": "stdout",
     "output_type": "stream",
     "text": [
      "40.0\n",
      "1.26\n",
      "3.0\n",
      "2.0\n",
      "4.050000000000001\n"
     ]
    }
   ],
   "source": [
    "print(df['age'].median())\n",
    "print(df['session_duration_hours'].median())\n",
    "print(df['workout_frequency_days_per_week'].median())\n",
    "print(df['experience_level'].median())\n",
    "print(df['hours_spent_at_gym_weekly'].median())"
   ]
  },
  {
   "cell_type": "code",
   "execution_count": 9,
   "id": "f1c72630-63d1-4cdc-bc9f-500dda86e74d",
   "metadata": {},
   "outputs": [
    {
     "name": "stdout",
     "output_type": "stream",
     "text": [
      "Column: gender\n",
      "Mode(s): ['Male']\n",
      "-\n",
      "Column: workout_type\n",
      "Mode(s): ['Strength']\n",
      "-\n",
      "Column: fat_percentage_encoded\n",
      "Mode(s): ['healthy']\n",
      "-\n",
      "Column: bmi_encoded\n",
      "Mode(s): ['normal']\n",
      "-\n",
      "Column: experience_level_encoded\n",
      "Mode(s): ['regular']\n",
      "-\n",
      "Column: age_encoded\n",
      "Mode(s): ['18-29']\n",
      "-\n",
      "Column: session_duration_hours_encoded\n",
      "Mode(s): ['Q3_1.26_1.46']\n",
      "-\n",
      "Column: hours_spent_at_gym_weekly_encoded\n",
      "Mode(s): ['Q1_1.0_2.76']\n",
      "-\n"
     ]
    }
   ],
   "source": [
    "print_categorical_modes(df)"
   ]
  },
  {
   "cell_type": "code",
   "execution_count": 15,
   "id": "160f5a98-85ea-4fac-9b4e-9aeb4f6367df",
   "metadata": {},
   "outputs": [],
   "source": [
    "df_average = df.loc[\n",
    "    (df['workout_type'] == \"Strength\") &\n",
    "    (df['workout_frequency_days_per_week'] == 3) &\n",
    "    (df['age'] >= 35) & \n",
    "    (df['age'] <= 45)\n",
    "]"
   ]
  },
  {
   "cell_type": "code",
   "execution_count": 16,
   "id": "827e80af-4b9a-4a53-be3c-0f0d025e84ce",
   "metadata": {},
   "outputs": [
    {
     "name": "stdout",
     "output_type": "stream",
     "text": [
      "Distribution for 'gender':\n",
      "Male: 58.33% (14)\n",
      "Female: 41.67% (10)\n",
      "\n"
     ]
    }
   ],
   "source": [
    "dimension_gender = ['gender']\n",
    "dimension_distribution(df_average, dimension_gender)"
   ]
  },
  {
   "cell_type": "markdown",
   "id": "0e5798f3-0ac2-4946-aa31-36f0c1b20859",
   "metadata": {},
   "source": [
    "## Investing dimension distributions for anomalies"
   ]
  },
  {
   "cell_type": "code",
   "execution_count": 10,
   "id": "90082320-8ee7-4cf5-97e0-e8722971ab38",
   "metadata": {},
   "outputs": [
    {
     "name": "stdout",
     "output_type": "stream",
     "text": [
      "Distribution for 'gender':\n",
      "Male: 52.52% (511)\n",
      "Female: 47.48% (462)\n",
      "\n",
      "Distribution for 'workout_type':\n",
      "Strength: 26.52% (258)\n",
      "Cardio: 26.21% (255)\n",
      "Yoga: 24.56% (239)\n",
      "HIIT: 22.71% (221)\n",
      "\n",
      "Distribution for 'workout_frequency_days_per_week':\n",
      "3: 37.82% (368)\n",
      "4: 31.45% (306)\n",
      "2: 20.25% (197)\n",
      "5: 10.48% (102)\n",
      "\n",
      "Distribution for 'fat_percentage_encoded':\n",
      "healthy: 54.4% (526)\n",
      "overfat: 22.34% (216)\n",
      "obese: 13.34% (129)\n",
      "underfat: 9.93% (96)\n",
      "\n",
      "Distribution for 'bmi_encoded':\n",
      "normal: 37.84% (364)\n",
      "overweight: 24.74% (238)\n",
      "underweight: 17.46% (168)\n",
      "obesity: 16.42% (158)\n",
      "morbid_obesity: 3.53% (34)\n",
      "\n",
      "Distribution for 'experience_level_encoded':\n",
      "regular: 41.73% (406)\n",
      "beginner: 38.64% (376)\n",
      "expert: 19.63% (191)\n",
      "\n",
      "Distribution for 'age_encoded':\n",
      "18-29: 28.37% (276)\n",
      "40-49: 25.18% (245)\n",
      "50-59: 24.97% (243)\n",
      "30-39: 21.48% (209)\n",
      "\n",
      "Distribution for 'session_duration_hours_encoded':\n",
      "Q3_1.26_1.46: 26.1% (254)\n",
      "Q1_0.5_1.04: 25.39% (247)\n",
      "Q2_1.04_1.26: 24.67% (240)\n",
      "Q4_1.46_2.0: 23.84% (232)\n",
      "\n",
      "Distribution for 'hours_spent_at_gym_weekly_encoded':\n",
      "Q1_1.0_2.76: 25.18% (245)\n",
      "Q3_4.05_5.48: 25.08% (244)\n",
      "Q2_2.76_4.05: 24.97% (243)\n",
      "Q4_5.48_9.95: 24.77% (241)\n",
      "\n"
     ]
    }
   ],
   "source": [
    "dimension_distribution(df, dimensions)"
   ]
  },
  {
   "cell_type": "code",
   "execution_count": null,
   "id": "55316e7c-bef3-4592-8a74-47743ec66fe3",
   "metadata": {},
   "outputs": [],
   "source": []
  },
  {
   "cell_type": "code",
   "execution_count": null,
   "id": "cc231195-0af0-4cb5-ad1c-9cf7de284852",
   "metadata": {},
   "outputs": [],
   "source": []
  },
  {
   "cell_type": "markdown",
   "id": "59d49ff2-d3ec-49bc-a77d-a8137cd0ae96",
   "metadata": {},
   "source": [
    "## Dimension focus-groups"
   ]
  },
  {
   "cell_type": "markdown",
   "id": "2e12f0fc-6095-4bbe-82b3-60bd80276de5",
   "metadata": {},
   "source": [
    "### Age"
   ]
  },
  {
   "cell_type": "code",
   "execution_count": 17,
   "id": "7894e63c-afde-4c41-8d20-224556be161c",
   "metadata": {},
   "outputs": [
    {
     "name": "stdout",
     "output_type": "stream",
     "text": [
      "Subgroup distributions for 'age_encoded' and 'gender':\n",
      "\n",
      "50-59:\n",
      "  Male: 52.26% (127) (13.05% of all dataset entries)\n",
      "  Female: 47.74% (116) (11.92% of all dataset entries)\n",
      "\n",
      "40-49:\n",
      "  Male: 54.69% (134) (13.77% of all dataset entries)\n",
      "  Female: 45.31% (111) (11.41% of all dataset entries)\n",
      "\n",
      "30-39:\n",
      "  Male: 51.2% (107) (11.0% of all dataset entries)\n",
      "  Female: 48.8% (102) (10.48% of all dataset entries)\n",
      "\n",
      "18-29:\n",
      "  Male: 51.81% (143) (14.7% of all dataset entries)\n",
      "  Female: 48.19% (133) (13.67% of all dataset entries)\n",
      "\n",
      "\n"
     ]
    }
   ],
   "source": [
    "chosen_dimensions = ('age_encoded', 'gender')\n",
    "total_count = 973\n",
    "two_dimension_subgroup_distributions(df, chosen_dimensions, total_count)"
   ]
  },
  {
   "cell_type": "code",
   "execution_count": 25,
   "id": "ff38c1b3-66c7-4231-acd6-5355ef380d5d",
   "metadata": {},
   "outputs": [],
   "source": [
    "# more males in each bracket"
   ]
  },
  {
   "cell_type": "code",
   "execution_count": 18,
   "id": "4e1472d6-d9af-4460-a162-fe3abf609db8",
   "metadata": {},
   "outputs": [
    {
     "name": "stdout",
     "output_type": "stream",
     "text": [
      "Subgroup distributions for 'age_encoded' and 'workout_type':\n",
      "\n",
      "50-59:\n",
      "  Strength: 27.16% (66) (6.78% of all dataset entries)\n",
      "  Yoga: 25.93% (63) (6.47% of all dataset entries)\n",
      "  HIIT: 23.46% (57) (5.86% of all dataset entries)\n",
      "  Cardio: 23.46% (57) (5.86% of all dataset entries)\n",
      "\n",
      "40-49:\n",
      "  Yoga: 28.16% (69) (7.09% of all dataset entries)\n",
      "  Strength: 25.31% (62) (6.37% of all dataset entries)\n",
      "  Cardio: 23.27% (57) (5.86% of all dataset entries)\n",
      "  HIIT: 23.27% (57) (5.86% of all dataset entries)\n",
      "\n",
      "30-39:\n",
      "  Cardio: 31.1% (65) (6.68% of all dataset entries)\n",
      "  Strength: 26.79% (56) (5.76% of all dataset entries)\n",
      "  HIIT: 22.49% (47) (4.83% of all dataset entries)\n",
      "  Yoga: 19.62% (41) (4.21% of all dataset entries)\n",
      "\n",
      "18-29:\n",
      "  Cardio: 27.54% (76) (7.81% of all dataset entries)\n",
      "  Strength: 26.81% (74) (7.61% of all dataset entries)\n",
      "  Yoga: 23.91% (66) (6.78% of all dataset entries)\n",
      "  HIIT: 21.74% (60) (6.17% of all dataset entries)\n",
      "\n",
      "\n"
     ]
    }
   ],
   "source": [
    "chosen_dimensions = ('age_encoded', 'workout_type')\n",
    "total_count = 973\n",
    "two_dimension_subgroup_distributions(df, chosen_dimensions, total_count)"
   ]
  },
  {
   "cell_type": "code",
   "execution_count": 26,
   "id": "10bf459a-1ebb-4b4b-b3cd-a88e1a9229ce",
   "metadata": {},
   "outputs": [],
   "source": [
    "# HIIT is the popular, but not with big margin"
   ]
  },
  {
   "cell_type": "code",
   "execution_count": 19,
   "id": "301341bc-02f2-4833-8a03-f19dbd98ee02",
   "metadata": {},
   "outputs": [
    {
     "name": "stdout",
     "output_type": "stream",
     "text": [
      "Subgroup distributions for 'age_encoded' and 'workout_frequency_days_per_week':\n",
      "\n",
      "50-59:\n",
      "  3: 39.92% (97) (9.97% of all dataset entries)\n",
      "  4: 30.04% (73) (7.5% of all dataset entries)\n",
      "  2: 21.4% (52) (5.34% of all dataset entries)\n",
      "  5: 8.64% (21) (2.16% of all dataset entries)\n",
      "\n",
      "40-49:\n",
      "  3: 38.37% (94) (9.66% of all dataset entries)\n",
      "  4: 32.65% (80) (8.22% of all dataset entries)\n",
      "  2: 16.73% (41) (4.21% of all dataset entries)\n",
      "  5: 12.24% (30) (3.08% of all dataset entries)\n",
      "\n",
      "30-39:\n",
      "  4: 33.49% (70) (7.19% of all dataset entries)\n",
      "  3: 30.62% (64) (6.58% of all dataset entries)\n",
      "  2: 23.44% (49) (5.04% of all dataset entries)\n",
      "  5: 12.44% (26) (2.67% of all dataset entries)\n",
      "\n",
      "18-29:\n",
      "  3: 40.94% (113) (11.61% of all dataset entries)\n",
      "  4: 30.07% (83) (8.53% of all dataset entries)\n",
      "  2: 19.93% (55) (5.65% of all dataset entries)\n",
      "  5: 9.06% (25) (2.57% of all dataset entries)\n",
      "\n",
      "\n"
     ]
    }
   ],
   "source": [
    "chosen_dimensions = ('age_encoded', 'workout_frequency_days_per_week')\n",
    "total_count = 973\n",
    "two_dimension_subgroup_distributions(df, chosen_dimensions, total_count)"
   ]
  },
  {
   "cell_type": "code",
   "execution_count": 20,
   "id": "58b66a8d-6e5c-4e41-b499-ac973f0fa898",
   "metadata": {},
   "outputs": [
    {
     "name": "stdout",
     "output_type": "stream",
     "text": [
      "Subgroup distributions for 'age_encoded' and 'fat_percentage_encoded':\n",
      "\n",
      "50-59:\n",
      "  healthy: 60.42% (145) (14.9% of all dataset entries)\n",
      "  overfat: 21.25% (51) (5.24% of all dataset entries)\n",
      "  underfat: 10.0% (24) (2.47% of all dataset entries)\n",
      "  obese: 8.33% (20) (2.06% of all dataset entries)\n",
      "\n",
      "40-49:\n",
      "  healthy: 58.85% (143) (14.7% of all dataset entries)\n",
      "  overfat: 19.75% (48) (4.93% of all dataset entries)\n",
      "  underfat: 11.52% (28) (2.88% of all dataset entries)\n",
      "  obese: 9.88% (24) (2.47% of all dataset entries)\n",
      "\n",
      "30-39:\n",
      "  healthy: 46.89% (98) (10.07% of all dataset entries)\n",
      "  overfat: 21.53% (45) (4.62% of all dataset entries)\n",
      "  obese: 20.57% (43) (4.42% of all dataset entries)\n",
      "  underfat: 11.0% (23) (2.36% of all dataset entries)\n",
      "\n",
      "18-29:\n",
      "  healthy: 50.91% (140) (14.39% of all dataset entries)\n",
      "  overfat: 26.18% (72) (7.4% of all dataset entries)\n",
      "  obese: 15.27% (42) (4.32% of all dataset entries)\n",
      "  underfat: 7.64% (21) (2.16% of all dataset entries)\n",
      "\n",
      "\n"
     ]
    }
   ],
   "source": [
    "chosen_dimensions = ('age_encoded', 'fat_percentage_encoded')\n",
    "total_count = 973\n",
    "two_dimension_subgroup_distributions(df, chosen_dimensions, total_count)"
   ]
  },
  {
   "cell_type": "code",
   "execution_count": 21,
   "id": "172c1806-771e-451e-b0e3-7ebf80397569",
   "metadata": {},
   "outputs": [
    {
     "name": "stdout",
     "output_type": "stream",
     "text": [
      "Subgroup distributions for 'age_encoded' and 'bmi_encoded':\n",
      "\n",
      "50-59:\n",
      "  normal: 31.82% (77) (7.91% of all dataset entries)\n",
      "  overweight: 24.38% (59) (6.06% of all dataset entries)\n",
      "  obesity: 20.25% (49) (5.04% of all dataset entries)\n",
      "  underweight: 19.01% (46) (4.73% of all dataset entries)\n",
      "  morbid_obesity: 4.55% (11) (1.13% of all dataset entries)\n",
      "\n",
      "40-49:\n",
      "  normal: 40.74% (99) (10.17% of all dataset entries)\n",
      "  overweight: 24.69% (60) (6.17% of all dataset entries)\n",
      "  underweight: 21.81% (53) (5.45% of all dataset entries)\n",
      "  obesity: 10.29% (25) (2.57% of all dataset entries)\n",
      "  morbid_obesity: 2.47% (6) (0.62% of all dataset entries)\n",
      "\n",
      "30-39:\n",
      "  normal: 43.0% (89) (9.15% of all dataset entries)\n",
      "  overweight: 21.26% (44) (4.52% of all dataset entries)\n",
      "  obesity: 17.39% (36) (3.7% of all dataset entries)\n",
      "  underweight: 14.01% (29) (2.98% of all dataset entries)\n",
      "  morbid_obesity: 4.35% (9) (0.92% of all dataset entries)\n",
      "\n",
      "18-29:\n",
      "  normal: 36.67% (99) (10.17% of all dataset entries)\n",
      "  overweight: 27.78% (75) (7.71% of all dataset entries)\n",
      "  obesity: 17.78% (48) (4.93% of all dataset entries)\n",
      "  underweight: 14.81% (40) (4.11% of all dataset entries)\n",
      "  morbid_obesity: 2.96% (8) (0.82% of all dataset entries)\n",
      "\n",
      "\n"
     ]
    }
   ],
   "source": [
    "chosen_dimensions = ('age_encoded', 'bmi_encoded')\n",
    "total_count = 973\n",
    "two_dimension_subgroup_distributions(df, chosen_dimensions, total_count)"
   ]
  },
  {
   "cell_type": "code",
   "execution_count": 22,
   "id": "0925e5c0-8005-41ef-a909-231ee54dab94",
   "metadata": {},
   "outputs": [
    {
     "name": "stdout",
     "output_type": "stream",
     "text": [
      "Subgroup distributions for 'age_encoded' and 'experience_level_encoded':\n",
      "\n",
      "50-59:\n",
      "  regular: 41.56% (101) (10.38% of all dataset entries)\n",
      "  beginner: 41.56% (101) (10.38% of all dataset entries)\n",
      "  expert: 16.87% (41) (4.21% of all dataset entries)\n",
      "\n",
      "40-49:\n",
      "  regular: 41.63% (102) (10.48% of all dataset entries)\n",
      "  beginner: 36.33% (89) (9.15% of all dataset entries)\n",
      "  expert: 22.04% (54) (5.55% of all dataset entries)\n",
      "\n",
      "30-39:\n",
      "  regular: 41.63% (87) (8.94% of all dataset entries)\n",
      "  beginner: 38.28% (80) (8.22% of all dataset entries)\n",
      "  expert: 20.1% (42) (4.32% of all dataset entries)\n",
      "\n",
      "18-29:\n",
      "  regular: 42.03% (116) (11.92% of all dataset entries)\n",
      "  beginner: 38.41% (106) (10.89% of all dataset entries)\n",
      "  expert: 19.57% (54) (5.55% of all dataset entries)\n",
      "\n",
      "\n"
     ]
    }
   ],
   "source": [
    "chosen_dimensions = ('age_encoded', 'experience_level_encoded')\n",
    "total_count = 973\n",
    "two_dimension_subgroup_distributions(df, chosen_dimensions, total_count)"
   ]
  },
  {
   "cell_type": "code",
   "execution_count": 23,
   "id": "0b0b4965-13d9-4c15-974d-b7f2a5090a9b",
   "metadata": {},
   "outputs": [
    {
     "name": "stdout",
     "output_type": "stream",
     "text": [
      "Subgroup distributions for 'age_encoded' and 'session_duration_hours_encoded':\n",
      "\n",
      "50-59:\n",
      "  Q2_1.04_1.26: 29.63% (72) (7.4% of all dataset entries)\n",
      "  Q1_0.5_1.04: 25.51% (62) (6.37% of all dataset entries)\n",
      "  Q3_1.26_1.46: 23.87% (58) (5.96% of all dataset entries)\n",
      "  Q4_1.46_2.0: 20.99% (51) (5.24% of all dataset entries)\n",
      "\n",
      "40-49:\n",
      "  Q3_1.26_1.46: 28.98% (71) (7.3% of all dataset entries)\n",
      "  Q4_1.46_2.0: 25.71% (63) (6.47% of all dataset entries)\n",
      "  Q1_0.5_1.04: 22.86% (56) (5.76% of all dataset entries)\n",
      "  Q2_1.04_1.26: 22.45% (55) (5.65% of all dataset entries)\n",
      "\n",
      "30-39:\n",
      "  Q1_0.5_1.04: 27.27% (57) (5.86% of all dataset entries)\n",
      "  Q2_1.04_1.26: 24.4% (51) (5.24% of all dataset entries)\n",
      "  Q4_1.46_2.0: 24.4% (51) (5.24% of all dataset entries)\n",
      "  Q3_1.26_1.46: 23.92% (50) (5.14% of all dataset entries)\n",
      "\n",
      "18-29:\n",
      "  Q3_1.26_1.46: 27.17% (75) (7.71% of all dataset entries)\n",
      "  Q1_0.5_1.04: 26.09% (72) (7.4% of all dataset entries)\n",
      "  Q4_1.46_2.0: 24.28% (67) (6.89% of all dataset entries)\n",
      "  Q2_1.04_1.26: 22.46% (62) (6.37% of all dataset entries)\n",
      "\n",
      "\n"
     ]
    }
   ],
   "source": [
    "chosen_dimensions = ('age_encoded', 'session_duration_hours_encoded')\n",
    "total_count = 973\n",
    "two_dimension_subgroup_distributions(df, chosen_dimensions, total_count)"
   ]
  },
  {
   "cell_type": "code",
   "execution_count": 24,
   "id": "3c0a5ec3-1406-4282-9aff-ac7e9eb5921a",
   "metadata": {},
   "outputs": [
    {
     "name": "stdout",
     "output_type": "stream",
     "text": [
      "Subgroup distributions for 'age_encoded' and 'hours_spent_at_gym_weekly_encoded':\n",
      "\n",
      "50-59:\n",
      "  Q1_1.0_2.76: 27.98% (68) (6.99% of all dataset entries)\n",
      "  Q2_2.76_4.05: 25.93% (63) (6.47% of all dataset entries)\n",
      "  Q3_4.05_5.48: 25.51% (62) (6.37% of all dataset entries)\n",
      "  Q4_5.48_9.95: 20.58% (50) (5.14% of all dataset entries)\n",
      "\n",
      "40-49:\n",
      "  Q3_4.05_5.48: 27.76% (68) (6.99% of all dataset entries)\n",
      "  Q4_5.48_9.95: 27.76% (68) (6.99% of all dataset entries)\n",
      "  Q2_2.76_4.05: 22.86% (56) (5.76% of all dataset entries)\n",
      "  Q1_1.0_2.76: 21.63% (53) (5.45% of all dataset entries)\n",
      "\n",
      "30-39:\n",
      "  Q3_4.05_5.48: 27.75% (58) (5.96% of all dataset entries)\n",
      "  Q4_5.48_9.95: 25.36% (53) (5.45% of all dataset entries)\n",
      "  Q1_1.0_2.76: 24.88% (52) (5.34% of all dataset entries)\n",
      "  Q2_2.76_4.05: 22.01% (46) (4.73% of all dataset entries)\n",
      "\n",
      "18-29:\n",
      "  Q2_2.76_4.05: 28.26% (78) (8.02% of all dataset entries)\n",
      "  Q1_1.0_2.76: 26.09% (72) (7.4% of all dataset entries)\n",
      "  Q4_5.48_9.95: 25.36% (70) (7.19% of all dataset entries)\n",
      "  Q3_4.05_5.48: 20.29% (56) (5.76% of all dataset entries)\n",
      "\n",
      "\n"
     ]
    }
   ],
   "source": [
    "chosen_dimensions = ('age_encoded', 'hours_spent_at_gym_weekly_encoded')\n",
    "total_count = 973\n",
    "two_dimension_subgroup_distributions(df, chosen_dimensions, total_count)"
   ]
  },
  {
   "cell_type": "code",
   "execution_count": null,
   "id": "47707dfd-4deb-4a1c-b55f-d041adf5b403",
   "metadata": {},
   "outputs": [],
   "source": []
  },
  {
   "cell_type": "code",
   "execution_count": null,
   "id": "43caef75-841c-4bb3-ac7e-4dbe10d94369",
   "metadata": {},
   "outputs": [],
   "source": []
  },
  {
   "cell_type": "markdown",
   "id": "42f064ab-8c78-4adc-8abc-05aa6d130e13",
   "metadata": {},
   "source": [
    "### Gender"
   ]
  },
  {
   "cell_type": "code",
   "execution_count": 27,
   "id": "a9f2de05-f540-4d49-87cf-eae5d8024569",
   "metadata": {},
   "outputs": [
    {
     "name": "stdout",
     "output_type": "stream",
     "text": [
      "Subgroup distributions for 'gender' and 'experience_level_encoded':\n",
      "\n",
      "Male:\n",
      "  regular: 41.68% (213) (21.89% of all dataset entries)\n",
      "  beginner: 38.55% (197) (20.25% of all dataset entries)\n",
      "  expert: 19.77% (101) (10.38% of all dataset entries)\n",
      "\n",
      "Female:\n",
      "  regular: 41.77% (193) (19.84% of all dataset entries)\n",
      "  beginner: 38.74% (179) (18.4% of all dataset entries)\n",
      "  expert: 19.48% (90) (9.25% of all dataset entries)\n",
      "\n",
      "\n"
     ]
    }
   ],
   "source": [
    "chosen_dimensions = ('gender', 'experience_level_encoded')\n",
    "total_count = 973\n",
    "two_dimension_subgroup_distributions(df, chosen_dimensions, total_count)"
   ]
  },
  {
   "cell_type": "code",
   "execution_count": 11,
   "id": "07c36b20-8f41-44b7-bbd2-8b997176adf0",
   "metadata": {},
   "outputs": [
    {
     "name": "stdout",
     "output_type": "stream",
     "text": [
      "Subgroup distributions for 'gender' and 'workout_type':\n",
      "\n",
      "Male:\n",
      "  Strength: 26.42% (135) (13.87% of all dataset entries)\n",
      "  Yoga: 26.03% (133) (13.67% of all dataset entries)\n",
      "  Cardio: 25.24% (129) (13.26% of all dataset entries)\n",
      "  HIIT: 22.31% (114) (11.72% of all dataset entries)\n",
      "\n",
      "Female:\n",
      "  Cardio: 27.27% (126) (12.95% of all dataset entries)\n",
      "  Strength: 26.62% (123) (12.64% of all dataset entries)\n",
      "  HIIT: 23.16% (107) (11.0% of all dataset entries)\n",
      "  Yoga: 22.94% (106) (10.89% of all dataset entries)\n",
      "\n",
      "\n"
     ]
    }
   ],
   "source": [
    "chosen_dimensions = ('gender', 'workout_type')\n",
    "total_count = 973\n",
    "two_dimension_subgroup_distributions(df, chosen_dimensions, total_count)"
   ]
  },
  {
   "cell_type": "code",
   "execution_count": 28,
   "id": "141af805-8926-411a-8c36-882199e096ed",
   "metadata": {},
   "outputs": [
    {
     "name": "stdout",
     "output_type": "stream",
     "text": [
      "Subgroup distributions for 'gender' and 'workout_frequency_days_per_week':\n",
      "\n",
      "Male:\n",
      "  3: 37.18% (190) (19.53% of all dataset entries)\n",
      "  4: 30.53% (156) (16.03% of all dataset entries)\n",
      "  2: 21.53% (110) (11.31% of all dataset entries)\n",
      "  5: 10.76% (55) (5.65% of all dataset entries)\n",
      "\n",
      "Female:\n",
      "  3: 38.53% (178) (18.29% of all dataset entries)\n",
      "  4: 32.47% (150) (15.42% of all dataset entries)\n",
      "  2: 18.83% (87) (8.94% of all dataset entries)\n",
      "  5: 10.17% (47) (4.83% of all dataset entries)\n",
      "\n",
      "\n"
     ]
    }
   ],
   "source": [
    "chosen_dimensions = ('gender', 'workout_frequency_days_per_week')\n",
    "total_count = 973\n",
    "two_dimension_subgroup_distributions(df, chosen_dimensions, total_count)"
   ]
  },
  {
   "cell_type": "code",
   "execution_count": 29,
   "id": "cd128a92-5f52-48c4-b6c5-6ddae33b48f5",
   "metadata": {},
   "outputs": [
    {
     "name": "stdout",
     "output_type": "stream",
     "text": [
      "Subgroup distributions for 'gender' and 'session_duration_hours_encoded':\n",
      "\n",
      "Male:\n",
      "  Q3_1.26_1.46: 26.61% (136) (13.98% of all dataset entries)\n",
      "  Q1_0.5_1.04: 25.44% (130) (13.36% of all dataset entries)\n",
      "  Q2_1.04_1.26: 24.27% (124) (12.74% of all dataset entries)\n",
      "  Q4_1.46_2.0: 23.68% (121) (12.44% of all dataset entries)\n",
      "\n",
      "Female:\n",
      "  Q3_1.26_1.46: 25.54% (118) (12.13% of all dataset entries)\n",
      "  Q1_0.5_1.04: 25.32% (117) (12.02% of all dataset entries)\n",
      "  Q2_1.04_1.26: 25.11% (116) (11.92% of all dataset entries)\n",
      "  Q4_1.46_2.0: 24.03% (111) (11.41% of all dataset entries)\n",
      "\n",
      "\n"
     ]
    }
   ],
   "source": [
    "chosen_dimensions = ('gender', 'session_duration_hours_encoded')\n",
    "total_count = 973\n",
    "two_dimension_subgroup_distributions(df, chosen_dimensions, total_count)"
   ]
  },
  {
   "cell_type": "code",
   "execution_count": 30,
   "id": "43d63b23-a1c9-4228-9ec7-1a278a9a1c5a",
   "metadata": {},
   "outputs": [
    {
     "name": "stdout",
     "output_type": "stream",
     "text": [
      "Subgroup distributions for 'gender' and 'hours_spent_at_gym_weekly_encoded':\n",
      "\n",
      "Male:\n",
      "  Q1_1.0_2.76: 26.22% (134) (13.77% of all dataset entries)\n",
      "  Q2_2.76_4.05: 25.24% (129) (13.26% of all dataset entries)\n",
      "  Q3_4.05_5.48: 24.46% (125) (12.85% of all dataset entries)\n",
      "  Q4_5.48_9.95: 24.07% (123) (12.64% of all dataset entries)\n",
      "\n",
      "Female:\n",
      "  Q3_4.05_5.48: 25.76% (119) (12.23% of all dataset entries)\n",
      "  Q4_5.48_9.95: 25.54% (118) (12.13% of all dataset entries)\n",
      "  Q2_2.76_4.05: 24.68% (114) (11.72% of all dataset entries)\n",
      "  Q1_1.0_2.76: 24.03% (111) (11.41% of all dataset entries)\n",
      "\n",
      "\n"
     ]
    }
   ],
   "source": [
    "chosen_dimensions = ('gender', 'hours_spent_at_gym_weekly_encoded')\n",
    "total_count = 973\n",
    "two_dimension_subgroup_distributions(df, chosen_dimensions, total_count)"
   ]
  },
  {
   "cell_type": "code",
   "execution_count": 31,
   "id": "e59dd8c6-4cf1-436e-afcb-27ae4a54863b",
   "metadata": {},
   "outputs": [
    {
     "name": "stdout",
     "output_type": "stream",
     "text": [
      "Subgroup distributions for 'gender' and 'fat_percentage_encoded':\n",
      "\n",
      "Male:\n",
      "  overfat: 39.05% (198) (20.35% of all dataset entries)\n",
      "  healthy: 34.32% (174) (17.88% of all dataset entries)\n",
      "  obese: 25.44% (129) (13.26% of all dataset entries)\n",
      "  underfat: 1.18% (6) (0.62% of all dataset entries)\n",
      "\n",
      "Female:\n",
      "  healthy: 76.52% (352) (36.18% of all dataset entries)\n",
      "  underfat: 19.57% (90) (9.25% of all dataset entries)\n",
      "  overfat: 3.91% (18) (1.85% of all dataset entries)\n",
      "\n",
      "\n"
     ]
    }
   ],
   "source": [
    "chosen_dimensions = ('gender', 'fat_percentage_encoded')\n",
    "total_count = 973\n",
    "two_dimension_subgroup_distributions(df, chosen_dimensions, total_count)"
   ]
  },
  {
   "cell_type": "code",
   "execution_count": 37,
   "id": "e651a344-b8e8-4e57-a9f6-86a84019a1ca",
   "metadata": {},
   "outputs": [
    {
     "data": {
      "text/plain": [
       "177.25301204819277"
      ]
     },
     "execution_count": 37,
     "metadata": {},
     "output_type": "execute_result"
    }
   ],
   "source": [
    "absolute_percentage_difference(19.57, 1.18)"
   ]
  },
  {
   "cell_type": "code",
   "execution_count": 32,
   "id": "3b2ba1f7-9573-4278-8917-0e8694b5ab4d",
   "metadata": {},
   "outputs": [
    {
     "name": "stdout",
     "output_type": "stream",
     "text": [
      "Subgroup distributions for 'gender' and 'bmi_encoded':\n",
      "\n",
      "Male:\n",
      "  normal: 28.97% (146) (15.01% of all dataset entries)\n",
      "  obesity: 26.59% (134) (13.77% of all dataset entries)\n",
      "  overweight: 22.82% (115) (11.82% of all dataset entries)\n",
      "  underweight: 14.88% (75) (7.71% of all dataset entries)\n",
      "  morbid_obesity: 6.75% (34) (3.49% of all dataset entries)\n",
      "\n",
      "Female:\n",
      "  normal: 47.6% (218) (22.4% of all dataset entries)\n",
      "  overweight: 26.86% (123) (12.64% of all dataset entries)\n",
      "  underweight: 20.31% (93) (9.56% of all dataset entries)\n",
      "  obesity: 5.24% (24) (2.47% of all dataset entries)\n",
      "\n",
      "\n"
     ]
    }
   ],
   "source": [
    "chosen_dimensions = ('gender', 'bmi_encoded')\n",
    "total_count = 973\n",
    "two_dimension_subgroup_distributions(df, chosen_dimensions, total_count)"
   ]
  },
  {
   "cell_type": "code",
   "execution_count": 35,
   "id": "9635ee3c-7bf2-49bb-9393-d0abbe985dfd",
   "metadata": {},
   "outputs": [
    {
     "data": {
      "text/plain": [
       "134.15017279296265"
      ]
     },
     "execution_count": 35,
     "metadata": {},
     "output_type": "execute_result"
    }
   ],
   "source": [
    "absolute_percentage_difference(26.59, 5.24)"
   ]
  },
  {
   "cell_type": "code",
   "execution_count": 36,
   "id": "d33bfdab-3ccd-4dda-a38a-487ba547f550",
   "metadata": {},
   "outputs": [
    {
     "data": {
      "text/plain": [
       "(np.float64(77.34190139022684), np.float64(1.4378307800143748e-18))"
      ]
     },
     "execution_count": 36,
     "metadata": {},
     "output_type": "execute_result"
    }
   ],
   "source": [
    "observed_male = 134\n",
    "total_male = 511\n",
    "observed_female = 24\n",
    "total_female = 462\n",
    "chi_squared_test(observed_male, total_male, observed_female, total_female)"
   ]
  },
  {
   "cell_type": "markdown",
   "id": "afb76c52-2f5b-4c32-9f51-a0ed35b5054b",
   "metadata": {},
   "source": [
    "### Experience level"
   ]
  },
  {
   "cell_type": "code",
   "execution_count": 38,
   "id": "3952a041-a3fc-4224-ab3b-0bf8452f697e",
   "metadata": {},
   "outputs": [
    {
     "name": "stdout",
     "output_type": "stream",
     "text": [
      "Subgroup distributions for 'experience_level_encoded' and 'workout_type':\n",
      "\n",
      "expert:\n",
      "  Yoga: 27.75% (53) (5.45% of all dataset entries)\n",
      "  HIIT: 25.65% (49) (5.04% of all dataset entries)\n",
      "  Strength: 23.56% (45) (4.62% of all dataset entries)\n",
      "  Cardio: 23.04% (44) (4.52% of all dataset entries)\n",
      "\n",
      "regular:\n",
      "  Strength: 28.57% (116) (11.92% of all dataset entries)\n",
      "  Cardio: 25.12% (102) (10.48% of all dataset entries)\n",
      "  Yoga: 24.88% (101) (10.38% of all dataset entries)\n",
      "  HIIT: 21.43% (87) (8.94% of all dataset entries)\n",
      "\n",
      "beginner:\n",
      "  Cardio: 28.99% (109) (11.2% of all dataset entries)\n",
      "  Strength: 25.8% (97) (9.97% of all dataset entries)\n",
      "  HIIT: 22.61% (85) (8.74% of all dataset entries)\n",
      "  Yoga: 22.61% (85) (8.74% of all dataset entries)\n",
      "\n",
      "\n"
     ]
    }
   ],
   "source": [
    "chosen_dimensions = ('experience_level_encoded', 'workout_type')\n",
    "total_count = 973\n",
    "two_dimension_subgroup_distributions(df, chosen_dimensions, total_count)"
   ]
  },
  {
   "cell_type": "code",
   "execution_count": 39,
   "id": "9073f102-9bfe-45bf-ad33-d4a1f0de66d2",
   "metadata": {},
   "outputs": [
    {
     "name": "stdout",
     "output_type": "stream",
     "text": [
      "Subgroup distributions for 'experience_level_encoded' and 'workout_frequency_days_per_week':\n",
      "\n",
      "expert:\n",
      "  5: 53.4% (102) (10.48% of all dataset entries)\n",
      "  4: 46.6% (89) (9.15% of all dataset entries)\n",
      "\n",
      "regular:\n",
      "  4: 53.45% (217) (22.3% of all dataset entries)\n",
      "  3: 46.55% (189) (19.42% of all dataset entries)\n",
      "\n",
      "beginner:\n",
      "  2: 52.39% (197) (20.25% of all dataset entries)\n",
      "  3: 47.61% (179) (18.4% of all dataset entries)\n",
      "\n",
      "\n"
     ]
    }
   ],
   "source": [
    "chosen_dimensions = ('experience_level_encoded', 'workout_frequency_days_per_week')\n",
    "total_count = 973\n",
    "two_dimension_subgroup_distributions(df, chosen_dimensions, total_count)"
   ]
  },
  {
   "cell_type": "code",
   "execution_count": 40,
   "id": "cf2cb3e1-c2f0-4086-ac75-e34f65250a8c",
   "metadata": {},
   "outputs": [
    {
     "name": "stdout",
     "output_type": "stream",
     "text": [
      "Subgroup distributions for 'experience_level_encoded' and 'session_duration_hours_encoded':\n",
      "\n",
      "expert:\n",
      "  Q4_1.46_2.0: 100.0% (191) (19.63% of all dataset entries)\n",
      "\n",
      "regular:\n",
      "  Q3_1.26_1.46: 41.87% (170) (17.47% of all dataset entries)\n",
      "  Q2_1.04_1.26: 38.67% (157) (16.14% of all dataset entries)\n",
      "  Q1_0.5_1.04: 12.07% (49) (5.04% of all dataset entries)\n",
      "  Q4_1.46_2.0: 7.39% (30) (3.08% of all dataset entries)\n",
      "\n",
      "beginner:\n",
      "  Q1_0.5_1.04: 52.66% (198) (20.35% of all dataset entries)\n",
      "  Q3_1.26_1.46: 22.34% (84) (8.63% of all dataset entries)\n",
      "  Q2_1.04_1.26: 22.07% (83) (8.53% of all dataset entries)\n",
      "  Q4_1.46_2.0: 2.93% (11) (1.13% of all dataset entries)\n",
      "\n",
      "\n"
     ]
    }
   ],
   "source": [
    "chosen_dimensions = ('experience_level_encoded', 'session_duration_hours_encoded')\n",
    "total_count = 973\n",
    "two_dimension_subgroup_distributions(df, chosen_dimensions, total_count)"
   ]
  },
  {
   "cell_type": "code",
   "execution_count": 41,
   "id": "c3759eec-979b-4e3a-b2d1-a56172835b97",
   "metadata": {},
   "outputs": [
    {
     "name": "stdout",
     "output_type": "stream",
     "text": [
      "Subgroup distributions for 'experience_level_encoded' and 'fat_percentage_encoded':\n",
      "\n",
      "expert:\n",
      "  underfat: 50.53% (96) (9.87% of all dataset entries)\n",
      "  healthy: 49.47% (94) (9.66% of all dataset entries)\n",
      "\n",
      "regular:\n",
      "  healthy: 57.07% (230) (23.64% of all dataset entries)\n",
      "  overfat: 27.05% (109) (11.2% of all dataset entries)\n",
      "  obese: 15.88% (64) (6.58% of all dataset entries)\n",
      "\n",
      "beginner:\n",
      "  healthy: 54.01% (202) (20.76% of all dataset entries)\n",
      "  overfat: 28.61% (107) (11.0% of all dataset entries)\n",
      "  obese: 17.38% (65) (6.68% of all dataset entries)\n",
      "\n",
      "\n"
     ]
    }
   ],
   "source": [
    "chosen_dimensions = ('experience_level_encoded', 'fat_percentage_encoded')\n",
    "total_count = 973\n",
    "two_dimension_subgroup_distributions(df, chosen_dimensions, total_count)"
   ]
  },
  {
   "cell_type": "code",
   "execution_count": 42,
   "id": "b91e8dc5-c4e2-49f6-9258-d68bd7cb276b",
   "metadata": {},
   "outputs": [
    {
     "name": "stdout",
     "output_type": "stream",
     "text": [
      "Subgroup distributions for 'experience_level_encoded' and 'bmi_encoded':\n",
      "\n",
      "expert:\n",
      "  normal: 53.19% (100) (10.28% of all dataset entries)\n",
      "  overweight: 27.13% (51) (5.24% of all dataset entries)\n",
      "  obesity: 14.36% (27) (2.77% of all dataset entries)\n",
      "  underweight: 5.32% (10) (1.03% of all dataset entries)\n",
      "\n",
      "regular:\n",
      "  normal: 33.17% (133) (13.67% of all dataset entries)\n",
      "  overweight: 26.18% (105) (10.79% of all dataset entries)\n",
      "  underweight: 19.7% (79) (8.12% of all dataset entries)\n",
      "  obesity: 16.21% (65) (6.68% of all dataset entries)\n",
      "  morbid_obesity: 4.74% (19) (1.95% of all dataset entries)\n",
      "\n",
      "beginner:\n",
      "  normal: 35.12% (131) (13.46% of all dataset entries)\n",
      "  overweight: 21.98% (82) (8.43% of all dataset entries)\n",
      "  underweight: 21.18% (79) (8.12% of all dataset entries)\n",
      "  obesity: 17.69% (66) (6.78% of all dataset entries)\n",
      "  morbid_obesity: 4.02% (15) (1.54% of all dataset entries)\n",
      "\n",
      "\n"
     ]
    }
   ],
   "source": [
    "chosen_dimensions = ('experience_level_encoded', 'bmi_encoded')\n",
    "total_count = 973\n",
    "two_dimension_subgroup_distributions(df, chosen_dimensions, total_count)"
   ]
  },
  {
   "cell_type": "code",
   "execution_count": null,
   "id": "7bc07515-1195-47f8-8641-3ac61cc4707d",
   "metadata": {},
   "outputs": [],
   "source": []
  },
  {
   "cell_type": "markdown",
   "id": "549876eb-7d7a-4e50-98de-8aca503da4fa",
   "metadata": {},
   "source": [
    "## Drilling down on features"
   ]
  },
  {
   "cell_type": "markdown",
   "id": "b3156d38-b120-4057-824a-c262daee2052",
   "metadata": {},
   "source": [
    "### Gender & Age"
   ]
  },
  {
   "cell_type": "code",
   "execution_count": 12,
   "id": "f3427014-0126-431f-82af-6ed9bc01a2e3",
   "metadata": {},
   "outputs": [
    {
     "name": "stdout",
     "output_type": "stream",
     "text": [
      "Subgroup distributions for 'gender', 'age_encoded', and 'workout_type':\n",
      "\n",
      "Male:\n",
      "  50-59:\n",
      "    Yoga: 31.5% (40) (4.11% of all dataset entries)\n",
      "    Strength: 27.56% (35) (3.6% of all dataset entries)\n",
      "    Cardio: 22.83% (29) (2.98% of all dataset entries)\n",
      "    HIIT: 18.11% (23) (2.36% of all dataset entries)\n",
      "\n",
      "  18-29:\n",
      "    Strength: 27.27% (39) (4.01% of all dataset entries)\n",
      "    Cardio: 25.17% (36) (3.7% of all dataset entries)\n",
      "    Yoga: 25.17% (36) (3.7% of all dataset entries)\n",
      "    HIIT: 22.38% (32) (3.29% of all dataset entries)\n",
      "\n",
      "  30-39:\n",
      "    Cardio: 29.91% (32) (3.29% of all dataset entries)\n",
      "    Strength: 27.1% (29) (2.98% of all dataset entries)\n",
      "    HIIT: 23.36% (25) (2.57% of all dataset entries)\n",
      "    Yoga: 19.63% (21) (2.16% of all dataset entries)\n",
      "\n",
      "  40-49:\n",
      "    Yoga: 26.87% (36) (3.7% of all dataset entries)\n",
      "    HIIT: 25.37% (34) (3.49% of all dataset entries)\n",
      "    Strength: 23.88% (32) (3.29% of all dataset entries)\n",
      "    Cardio: 23.88% (32) (3.29% of all dataset entries)\n",
      "\n",
      "Female:\n",
      "  40-49:\n",
      "    Yoga: 29.73% (33) (3.39% of all dataset entries)\n",
      "    Strength: 27.03% (30) (3.08% of all dataset entries)\n",
      "    Cardio: 22.52% (25) (2.57% of all dataset entries)\n",
      "    HIIT: 20.72% (23) (2.36% of all dataset entries)\n",
      "\n",
      "  30-39:\n",
      "    Cardio: 32.35% (33) (3.39% of all dataset entries)\n",
      "    Strength: 26.47% (27) (2.77% of all dataset entries)\n",
      "    HIIT: 21.57% (22) (2.26% of all dataset entries)\n",
      "    Yoga: 19.61% (20) (2.06% of all dataset entries)\n",
      "\n",
      "  50-59:\n",
      "    HIIT: 29.31% (34) (3.49% of all dataset entries)\n",
      "    Strength: 26.72% (31) (3.19% of all dataset entries)\n",
      "    Cardio: 24.14% (28) (2.88% of all dataset entries)\n",
      "    Yoga: 19.83% (23) (2.36% of all dataset entries)\n",
      "\n",
      "  18-29:\n",
      "    Cardio: 30.08% (40) (4.11% of all dataset entries)\n",
      "    Strength: 26.32% (35) (3.6% of all dataset entries)\n",
      "    Yoga: 22.56% (30) (3.08% of all dataset entries)\n",
      "    HIIT: 21.05% (28) (2.88% of all dataset entries)\n",
      "\n",
      "\n"
     ]
    }
   ],
   "source": [
    "chosen_dimensions = ('gender', 'age_encoded', 'workout_type')\n",
    "total_count = 973\n",
    "three_dimension_subgroup_distributions(df, chosen_dimensions, total_count)"
   ]
  },
  {
   "cell_type": "code",
   "execution_count": 43,
   "id": "5f37805a-1074-453a-89f7-99a4b6643d1b",
   "metadata": {},
   "outputs": [
    {
     "name": "stdout",
     "output_type": "stream",
     "text": [
      "Subgroup distributions for 'gender', 'age_encoded', and 'bmi_encoded':\n",
      "\n",
      "Male:\n",
      "  50-59:\n",
      "    obesity: 31.75% (40) (4.11% of all dataset entries)\n",
      "    normal: 23.02% (29) (2.98% of all dataset entries)\n",
      "    underweight: 19.05% (24) (2.47% of all dataset entries)\n",
      "    overweight: 17.46% (22) (2.26% of all dataset entries)\n",
      "    morbid_obesity: 8.73% (11) (1.13% of all dataset entries)\n",
      "\n",
      "  18-29:\n",
      "    obesity: 30.0% (42) (4.32% of all dataset entries)\n",
      "    overweight: 27.86% (39) (4.01% of all dataset entries)\n",
      "    normal: 27.14% (38) (3.91% of all dataset entries)\n",
      "    underweight: 9.29% (13) (1.34% of all dataset entries)\n",
      "    morbid_obesity: 5.71% (8) (0.82% of all dataset entries)\n",
      "\n",
      "  30-39:\n",
      "    normal: 28.57% (30) (3.08% of all dataset entries)\n",
      "    obesity: 27.62% (29) (2.98% of all dataset entries)\n",
      "    overweight: 22.86% (24) (2.47% of all dataset entries)\n",
      "    underweight: 12.38% (13) (1.34% of all dataset entries)\n",
      "    morbid_obesity: 8.57% (9) (0.92% of all dataset entries)\n",
      "\n",
      "  40-49:\n",
      "    normal: 36.84% (49) (5.04% of all dataset entries)\n",
      "    overweight: 22.56% (30) (3.08% of all dataset entries)\n",
      "    underweight: 18.8% (25) (2.57% of all dataset entries)\n",
      "    obesity: 17.29% (23) (2.36% of all dataset entries)\n",
      "    morbid_obesity: 4.51% (6) (0.62% of all dataset entries)\n",
      "\n",
      "Female:\n",
      "  40-49:\n",
      "    normal: 45.45% (50) (5.14% of all dataset entries)\n",
      "    overweight: 27.27% (30) (3.08% of all dataset entries)\n",
      "    underweight: 25.45% (28) (2.88% of all dataset entries)\n",
      "    obesity: 1.82% (2) (0.21% of all dataset entries)\n",
      "\n",
      "  30-39:\n",
      "    normal: 57.84% (59) (6.06% of all dataset entries)\n",
      "    overweight: 19.61% (20) (2.06% of all dataset entries)\n",
      "    underweight: 15.69% (16) (1.64% of all dataset entries)\n",
      "    obesity: 6.86% (7) (0.72% of all dataset entries)\n",
      "\n",
      "  50-59:\n",
      "    normal: 41.38% (48) (4.93% of all dataset entries)\n",
      "    overweight: 31.9% (37) (3.8% of all dataset entries)\n",
      "    underweight: 18.97% (22) (2.26% of all dataset entries)\n",
      "    obesity: 7.76% (9) (0.92% of all dataset entries)\n",
      "\n",
      "  18-29:\n",
      "    normal: 46.92% (61) (6.27% of all dataset entries)\n",
      "    overweight: 27.69% (36) (3.7% of all dataset entries)\n",
      "    underweight: 20.77% (27) (2.77% of all dataset entries)\n",
      "    obesity: 4.62% (6) (0.62% of all dataset entries)\n",
      "\n",
      "\n"
     ]
    }
   ],
   "source": [
    "chosen_dimensions = ('gender', 'age_encoded', 'bmi_encoded')\n",
    "total_count = 973\n",
    "three_dimension_subgroup_distributions(df, chosen_dimensions, total_count)"
   ]
  },
  {
   "cell_type": "code",
   "execution_count": 44,
   "id": "088d269a-7bfd-4b0c-88cd-35598ba8f237",
   "metadata": {
    "scrolled": true
   },
   "outputs": [
    {
     "name": "stdout",
     "output_type": "stream",
     "text": [
      "Subgroup distributions for 'gender', 'age_encoded', and 'experience_level_encoded':\n",
      "\n",
      "Male:\n",
      "  50-59:\n",
      "    regular: 43.31% (55) (5.65% of all dataset entries)\n",
      "    beginner: 40.94% (52) (5.34% of all dataset entries)\n",
      "    expert: 15.75% (20) (2.06% of all dataset entries)\n",
      "\n",
      "  18-29:\n",
      "    regular: 39.86% (57) (5.86% of all dataset entries)\n",
      "    beginner: 37.06% (53) (5.45% of all dataset entries)\n",
      "    expert: 23.08% (33) (3.39% of all dataset entries)\n",
      "\n",
      "  30-39:\n",
      "    beginner: 41.12% (44) (4.52% of all dataset entries)\n",
      "    regular: 41.12% (44) (4.52% of all dataset entries)\n",
      "    expert: 17.76% (19) (1.95% of all dataset entries)\n",
      "\n",
      "  40-49:\n",
      "    regular: 42.54% (57) (5.86% of all dataset entries)\n",
      "    beginner: 35.82% (48) (4.93% of all dataset entries)\n",
      "    expert: 21.64% (29) (2.98% of all dataset entries)\n",
      "\n",
      "Female:\n",
      "  40-49:\n",
      "    regular: 40.54% (45) (4.62% of all dataset entries)\n",
      "    beginner: 36.94% (41) (4.21% of all dataset entries)\n",
      "    expert: 22.52% (25) (2.57% of all dataset entries)\n",
      "\n",
      "  30-39:\n",
      "    regular: 42.16% (43) (4.42% of all dataset entries)\n",
      "    beginner: 35.29% (36) (3.7% of all dataset entries)\n",
      "    expert: 22.55% (23) (2.36% of all dataset entries)\n",
      "\n",
      "  50-59:\n",
      "    beginner: 42.24% (49) (5.04% of all dataset entries)\n",
      "    regular: 39.66% (46) (4.73% of all dataset entries)\n",
      "    expert: 18.1% (21) (2.16% of all dataset entries)\n",
      "\n",
      "  18-29:\n",
      "    regular: 44.36% (59) (6.06% of all dataset entries)\n",
      "    beginner: 39.85% (53) (5.45% of all dataset entries)\n",
      "    expert: 15.79% (21) (2.16% of all dataset entries)\n",
      "\n",
      "\n"
     ]
    }
   ],
   "source": [
    "chosen_dimensions = ('gender', 'age_encoded', 'experience_level_encoded')\n",
    "total_count = 973\n",
    "three_dimension_subgroup_distributions(df, chosen_dimensions, total_count)"
   ]
  },
  {
   "cell_type": "markdown",
   "id": "2e8a599b-8d73-4520-8eea-0b55b295c21c",
   "metadata": {},
   "source": [
    "### BMI = obesity | morbid_obesity  -> GROUP 1"
   ]
  },
  {
   "cell_type": "code",
   "execution_count": 45,
   "id": "34dcf076-1aae-4586-ad13-b2ce44e4d455",
   "metadata": {},
   "outputs": [],
   "source": [
    "df_obesity_morbid_obesity = df.loc[((df['bmi_encoded'] == \"obesity\")|(df['bmi_encoded'] == \"morbid_obesity\"))]"
   ]
  },
  {
   "cell_type": "code",
   "execution_count": 76,
   "id": "164ecd13-ec0a-4c60-9d5e-ce389f054fa5",
   "metadata": {},
   "outputs": [
    {
     "name": "stdout",
     "output_type": "stream",
     "text": [
      "Distribution for 'gender':\n",
      "Male: 87.5% (168)\n",
      "Female: 12.5% (24)\n",
      "\n",
      "Distribution for 'workout_type':\n",
      "Cardio: 29.17% (56)\n",
      "HIIT: 25.0% (48)\n",
      "Strength: 25.0% (48)\n",
      "Yoga: 20.83% (40)\n",
      "\n",
      "Distribution for 'workout_frequency_days_per_week':\n",
      "3: 35.42% (68)\n",
      "4: 32.29% (62)\n",
      "2: 26.04% (50)\n",
      "5: 6.25% (12)\n",
      "\n",
      "Distribution for 'fat_percentage_encoded':\n",
      "healthy: 42.41% (81)\n",
      "overfat: 30.37% (58)\n",
      "obese: 26.7% (51)\n",
      "underfat: 0.52% (1)\n",
      "\n",
      "Distribution for 'bmi_encoded':\n",
      "obesity: 82.29% (158)\n",
      "morbid_obesity: 17.71% (34)\n",
      "\n",
      "Distribution for 'experience_level_encoded':\n",
      "regular: 43.75% (84)\n",
      "beginner: 42.19% (81)\n",
      "expert: 14.06% (27)\n",
      "\n",
      "Distribution for 'age_encoded':\n",
      "50-59: 31.25% (60)\n",
      "18-29: 29.17% (56)\n",
      "30-39: 23.44% (45)\n",
      "40-49: 16.15% (31)\n",
      "\n",
      "Distribution for 'session_duration_hours_encoded':\n",
      "Q1_0.5_1.04: 31.77% (61)\n",
      "Q3_1.26_1.46: 28.65% (55)\n",
      "Q2_1.04_1.26: 22.92% (44)\n",
      "Q4_1.46_2.0: 16.67% (32)\n",
      "\n",
      "Distribution for 'hours_spent_at_gym_weekly_encoded':\n",
      "Q1_1.0_2.76: 30.73% (59)\n",
      "Q3_4.05_5.48: 28.65% (55)\n",
      "Q2_2.76_4.05: 23.44% (45)\n",
      "Q4_5.48_9.95: 17.19% (33)\n",
      "\n"
     ]
    }
   ],
   "source": [
    "dimension_distribution(df_obesity_morbid_obesity, dimensions)"
   ]
  },
  {
   "cell_type": "code",
   "execution_count": 46,
   "id": "575de0ed-3bef-4728-b627-2b2c3dbf29ce",
   "metadata": {},
   "outputs": [
    {
     "data": {
      "text/plain": [
       "192"
      ]
     },
     "execution_count": 46,
     "metadata": {},
     "output_type": "execute_result"
    }
   ],
   "source": [
    "len(df_obesity_morbid_obesity)"
   ]
  },
  {
   "cell_type": "code",
   "execution_count": 72,
   "id": "c341ca1f-9316-4b61-949c-c1d11cbc0766",
   "metadata": {},
   "outputs": [
    {
     "data": {
      "text/plain": [
       "0.197327852004111"
      ]
     },
     "execution_count": 72,
     "metadata": {},
     "output_type": "execute_result"
    }
   ],
   "source": [
    "192/973"
   ]
  },
  {
   "cell_type": "code",
   "execution_count": 74,
   "id": "6a9363d4-ea76-4eea-b513-c80f41f4b987",
   "metadata": {},
   "outputs": [
    {
     "data": {
      "text/plain": [
       "0.8571428571428572"
      ]
     },
     "execution_count": 74,
     "metadata": {},
     "output_type": "execute_result"
    }
   ],
   "source": [
    "1-((9+2+6+7)/(51+29+50+38))"
   ]
  },
  {
   "cell_type": "code",
   "execution_count": 48,
   "id": "d3e85212-2c57-40bf-82d8-fd82f0296d9b",
   "metadata": {},
   "outputs": [
    {
     "name": "stdout",
     "output_type": "stream",
     "text": [
      "Subgroup distributions for 'age_encoded' and 'gender':\n",
      "\n",
      "50-59:\n",
      "  Male: 85.0% (51) (5.24% of all dataset entries)\n",
      "  Female: 15.0% (9) (0.92% of all dataset entries)\n",
      "\n",
      "40-49:\n",
      "  Male: 93.55% (29) (2.98% of all dataset entries)\n",
      "  Female: 6.45% (2) (0.21% of all dataset entries)\n",
      "\n",
      "18-29:\n",
      "  Male: 89.29% (50) (5.14% of all dataset entries)\n",
      "  Female: 10.71% (6) (0.62% of all dataset entries)\n",
      "\n",
      "30-39:\n",
      "  Male: 84.44% (38) (3.91% of all dataset entries)\n",
      "  Female: 15.56% (7) (0.72% of all dataset entries)\n",
      "\n",
      "\n"
     ]
    }
   ],
   "source": [
    "chosen_dimensions = ('age_encoded', 'gender')\n",
    "total_count = 973\n",
    "two_dimension_subgroup_distributions(df_obesity_morbid_obesity, chosen_dimensions, total_count)"
   ]
  },
  {
   "cell_type": "markdown",
   "id": "b6708edd-1eb5-4205-b7e9-a17e035ccf11",
   "metadata": {},
   "source": [
    "### BMI = underfat OR Fat percentage = underfat"
   ]
  },
  {
   "cell_type": "code",
   "execution_count": 59,
   "id": "ddb63e2c-668a-4c63-89f8-194f922e7748",
   "metadata": {},
   "outputs": [],
   "source": [
    "df_underweight_or_underfat = df.loc[((df['fat_percentage_encoded'] == \"underfat\")|(df['bmi_encoded'] == \"underweight\"))]"
   ]
  },
  {
   "cell_type": "code",
   "execution_count": 77,
   "id": "16ebb872-2639-4fed-b92b-ad5900801e0b",
   "metadata": {},
   "outputs": [
    {
     "name": "stdout",
     "output_type": "stream",
     "text": [
      "Distribution for 'gender':\n",
      "Female: 68.11% (173)\n",
      "Male: 31.89% (81)\n",
      "\n",
      "Distribution for 'workout_type':\n",
      "Strength: 29.92% (76)\n",
      "Yoga: 27.17% (69)\n",
      "Cardio: 22.44% (57)\n",
      "HIIT: 20.47% (52)\n",
      "\n",
      "Distribution for 'workout_frequency_days_per_week':\n",
      "4: 35.43% (90)\n",
      "3: 29.92% (76)\n",
      "5: 20.08% (51)\n",
      "2: 14.57% (37)\n",
      "\n",
      "Distribution for 'fat_percentage_encoded':\n",
      "underfat: 37.94% (96)\n",
      "healthy: 37.15% (94)\n",
      "overfat: 18.18% (46)\n",
      "obese: 6.72% (17)\n",
      "\n",
      "Distribution for 'bmi_encoded':\n",
      "underweight: 66.14% (168)\n",
      "normal: 24.8% (63)\n",
      "overweight: 8.66% (22)\n",
      "obesity: 0.39% (1)\n",
      "\n",
      "Distribution for 'experience_level_encoded':\n",
      "expert: 37.8% (96)\n",
      "beginner: 31.1% (79)\n",
      "regular: 31.1% (79)\n",
      "\n",
      "Distribution for 'age_encoded':\n",
      "40-49: 30.71% (78)\n",
      "50-59: 26.38% (67)\n",
      "18-29: 23.23% (59)\n",
      "30-39: 19.69% (50)\n",
      "\n",
      "Distribution for 'session_duration_hours_encoded':\n",
      "Q4_1.46_2.0: 42.52% (108)\n",
      "Q1_0.5_1.04: 20.47% (52)\n",
      "Q2_1.04_1.26: 19.29% (49)\n",
      "Q3_1.26_1.46: 17.72% (45)\n",
      "\n",
      "Distribution for 'hours_spent_at_gym_weekly_encoded':\n",
      "Q4_5.48_9.95: 43.7% (111)\n",
      "Q1_1.0_2.76: 19.29% (49)\n",
      "Q2_2.76_4.05: 18.9% (48)\n",
      "Q3_4.05_5.48: 18.11% (46)\n",
      "\n"
     ]
    }
   ],
   "source": [
    "dimension_distribution(df_underweight_or_underfat, dimensions)"
   ]
  },
  {
   "cell_type": "code",
   "execution_count": 70,
   "id": "3e454049-1eb9-45a8-b3c0-98c6e3047598",
   "metadata": {},
   "outputs": [
    {
     "data": {
      "text/plain": [
       "254"
      ]
     },
     "execution_count": 70,
     "metadata": {},
     "output_type": "execute_result"
    }
   ],
   "source": [
    "len(df_underweight_or_underfat)"
   ]
  },
  {
   "cell_type": "code",
   "execution_count": 71,
   "id": "f0742fe1-70d2-4ad3-9b22-431994dd7259",
   "metadata": {},
   "outputs": [
    {
     "data": {
      "text/plain": [
       "0.26104830421377184"
      ]
     },
     "execution_count": 71,
     "metadata": {},
     "output_type": "execute_result"
    }
   ],
   "source": [
    "254/973"
   ]
  },
  {
   "cell_type": "code",
   "execution_count": 75,
   "id": "37d95cc6-c2a6-4591-b6b9-7e945c73fe03",
   "metadata": {},
   "outputs": [
    {
     "data": {
      "text/plain": [
       "0.5317919075144508"
      ]
     },
     "execution_count": 75,
     "metadata": {},
     "output_type": "execute_result"
    }
   ],
   "source": [
    "1-((13+13+27+28)/(46+37+40+50))"
   ]
  },
  {
   "cell_type": "code",
   "execution_count": 60,
   "id": "224b7c91-5526-43ac-aba5-49b779c0d2ba",
   "metadata": {},
   "outputs": [
    {
     "name": "stdout",
     "output_type": "stream",
     "text": [
      "Subgroup distributions for 'age_encoded' and 'gender':\n",
      "\n",
      "18-29:\n",
      "  Female: 77.97% (46) (4.73% of all dataset entries)\n",
      "  Male: 22.03% (13) (1.34% of all dataset entries)\n",
      "\n",
      "30-39:\n",
      "  Female: 74.0% (37) (3.8% of all dataset entries)\n",
      "  Male: 26.0% (13) (1.34% of all dataset entries)\n",
      "\n",
      "50-59:\n",
      "  Female: 59.7% (40) (4.11% of all dataset entries)\n",
      "  Male: 40.3% (27) (2.77% of all dataset entries)\n",
      "\n",
      "40-49:\n",
      "  Female: 64.1% (50) (5.14% of all dataset entries)\n",
      "  Male: 35.9% (28) (2.88% of all dataset entries)\n",
      "\n",
      "\n"
     ]
    }
   ],
   "source": [
    "chosen_dimensions = ('age_encoded', 'gender')\n",
    "total_count = 973\n",
    "two_dimension_subgroup_distributions(df_underweight_or_underfat, chosen_dimensions, total_count)"
   ]
  },
  {
   "cell_type": "code",
   "execution_count": 61,
   "id": "c8f80faa-6275-4496-b38b-41f06927970f",
   "metadata": {},
   "outputs": [
    {
     "name": "stdout",
     "output_type": "stream",
     "text": [
      "Subgroup distributions for 'experience_level_encoded' and 'workout_type':\n",
      "\n",
      "beginner:\n",
      "  Strength: 27.85% (22) (2.26% of all dataset entries)\n",
      "  Yoga: 25.32% (20) (2.06% of all dataset entries)\n",
      "  HIIT: 24.05% (19) (1.95% of all dataset entries)\n",
      "  Cardio: 22.78% (18) (1.85% of all dataset entries)\n",
      "\n",
      "expert:\n",
      "  Yoga: 29.17% (28) (2.88% of all dataset entries)\n",
      "  Strength: 26.04% (25) (2.57% of all dataset entries)\n",
      "  Cardio: 22.92% (22) (2.26% of all dataset entries)\n",
      "  HIIT: 21.88% (21) (2.16% of all dataset entries)\n",
      "\n",
      "regular:\n",
      "  Strength: 36.71% (29) (2.98% of all dataset entries)\n",
      "  Yoga: 26.58% (21) (2.16% of all dataset entries)\n",
      "  Cardio: 21.52% (17) (1.75% of all dataset entries)\n",
      "  HIIT: 15.19% (12) (1.23% of all dataset entries)\n",
      "\n",
      "\n"
     ]
    }
   ],
   "source": [
    "chosen_dimensions = ('experience_level_encoded', 'workout_type')\n",
    "total_count = 973\n",
    "two_dimension_subgroup_distributions(df_underweight_or_underfat, chosen_dimensions, total_count)"
   ]
  },
  {
   "cell_type": "markdown",
   "id": "bafaa859-7a9a-49bc-95be-d7b142d5a16b",
   "metadata": {},
   "source": [
    "### BMI != obesity & morbid_obesity & underweight & Fat percentage != underfat"
   ]
  },
  {
   "cell_type": "code",
   "execution_count": 64,
   "id": "487e5021-79e4-46e2-b808-4539783f8b84",
   "metadata": {},
   "outputs": [],
   "source": [
    "df_no_obesity_morbid_obesity_underweight_or_underfat = df.loc[((df['bmi_encoded'] != \"obesity\")&(df['bmi_encoded'] != \"morbid_obesity\")&(df['bmi_encoded'] != \"underweight\")&(df['fat_percentage_encoded'] != \"underfat\"))]"
   ]
  },
  {
   "cell_type": "code",
   "execution_count": 78,
   "id": "c1f749e1-18c5-41f8-bc30-5aa9e54ee3d5",
   "metadata": {},
   "outputs": [
    {
     "name": "stdout",
     "output_type": "stream",
     "text": [
      "Distribution for 'gender':\n",
      "Female: 50.19% (265)\n",
      "Male: 49.81% (263)\n",
      "\n",
      "Distribution for 'workout_type':\n",
      "Cardio: 26.89% (142)\n",
      "Strength: 25.38% (134)\n",
      "Yoga: 24.81% (131)\n",
      "HIIT: 22.92% (121)\n",
      "\n",
      "Distribution for 'workout_frequency_days_per_week':\n",
      "3: 42.42% (224)\n",
      "4: 29.17% (154)\n",
      "2: 20.83% (110)\n",
      "5: 7.58% (40)\n",
      "\n",
      "Distribution for 'fat_percentage_encoded':\n",
      "healthy: 66.98% (351)\n",
      "overfat: 21.37% (112)\n",
      "obese: 11.64% (61)\n",
      "\n",
      "Distribution for 'bmi_encoded':\n",
      "normal: 58.22% (301)\n",
      "overweight: 41.78% (216)\n",
      "\n",
      "Distribution for 'experience_level_encoded':\n",
      "regular: 46.02% (243)\n",
      "beginner: 40.91% (216)\n",
      "expert: 13.07% (69)\n",
      "\n",
      "Distribution for 'age_encoded':\n",
      "18-29: 30.49% (161)\n",
      "40-49: 25.76% (136)\n",
      "50-59: 22.16% (117)\n",
      "30-39: 21.59% (114)\n",
      "\n",
      "Distribution for 'session_duration_hours_encoded':\n",
      "Q3_1.26_1.46: 29.17% (154)\n",
      "Q2_1.04_1.26: 27.84% (147)\n",
      "Q1_0.5_1.04: 25.38% (134)\n",
      "Q4_1.46_2.0: 17.61% (93)\n",
      "\n",
      "Distribution for 'hours_spent_at_gym_weekly_encoded':\n",
      "Q2_2.76_4.05: 28.41% (150)\n",
      "Q3_4.05_5.48: 27.08% (143)\n",
      "Q1_1.0_2.76: 25.95% (137)\n",
      "Q4_5.48_9.95: 18.56% (98)\n",
      "\n"
     ]
    }
   ],
   "source": [
    "dimension_distribution(df_no_obesity_morbid_obesity_underweight_or_underfat, dimensions)"
   ]
  },
  {
   "cell_type": "code",
   "execution_count": 67,
   "id": "8b920f25-4f3f-4c36-9136-92aa209a2d26",
   "metadata": {},
   "outputs": [
    {
     "data": {
      "text/plain": [
       "528"
      ]
     },
     "execution_count": 67,
     "metadata": {},
     "output_type": "execute_result"
    }
   ],
   "source": [
    "len(df_no_obesity_morbid_obesity_underweight_or_underfat)"
   ]
  },
  {
   "cell_type": "code",
   "execution_count": 69,
   "id": "47a58d83-d85e-473e-add1-8e97c3e4e4a7",
   "metadata": {},
   "outputs": [
    {
     "data": {
      "text/plain": [
       "0.5426515930113053"
      ]
     },
     "execution_count": 69,
     "metadata": {},
     "output_type": "execute_result"
    }
   ],
   "source": [
    "528/973"
   ]
  },
  {
   "cell_type": "code",
   "execution_count": 66,
   "id": "920c8690-f91b-478d-9a49-838a29e6d745",
   "metadata": {},
   "outputs": [
    {
     "name": "stdout",
     "output_type": "stream",
     "text": [
      "Subgroup distributions for 'age_encoded' and 'gender':\n",
      "\n",
      "30-39:\n",
      "  Female: 50.88% (58) (5.96% of all dataset entries)\n",
      "  Male: 49.12% (56) (5.76% of all dataset entries)\n",
      "\n",
      "40-49:\n",
      "  Male: 56.62% (77) (7.91% of all dataset entries)\n",
      "  Female: 43.38% (59) (6.06% of all dataset entries)\n",
      "\n",
      "18-29:\n",
      "  Female: 50.31% (81) (8.32% of all dataset entries)\n",
      "  Male: 49.69% (80) (8.22% of all dataset entries)\n",
      "\n",
      "50-59:\n",
      "  Female: 57.26% (67) (6.89% of all dataset entries)\n",
      "  Male: 42.74% (50) (5.14% of all dataset entries)\n",
      "\n",
      "\n"
     ]
    }
   ],
   "source": [
    "chosen_dimensions = ('age_encoded', 'gender')\n",
    "total_count = 973\n",
    "two_dimension_subgroup_distributions(df_no_obesity_morbid_obesity_underweight_or_underfat, chosen_dimensions, total_count)"
   ]
  },
  {
   "cell_type": "code",
   "execution_count": null,
   "id": "ed25926f-01b6-4ef6-a7ea-bec337077a1d",
   "metadata": {},
   "outputs": [],
   "source": []
  }
 ],
 "metadata": {
  "kernelspec": {
   "display_name": "Python 3 (ipykernel)",
   "language": "python",
   "name": "python3"
  },
  "language_info": {
   "codemirror_mode": {
    "name": "ipython",
    "version": 3
   },
   "file_extension": ".py",
   "mimetype": "text/x-python",
   "name": "python",
   "nbconvert_exporter": "python",
   "pygments_lexer": "ipython3",
   "version": "3.11.6"
  }
 },
 "nbformat": 4,
 "nbformat_minor": 5
}
